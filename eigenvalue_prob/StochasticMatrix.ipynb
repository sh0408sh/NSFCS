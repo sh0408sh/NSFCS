{
 "cells": [
  {
   "cell_type": "code",
   "execution_count": 4,
   "metadata": {},
   "outputs": [],
   "source": [
    "import numpy as np\n",
    "import itertools as it"
   ]
  },
  {
   "cell_type": "code",
   "execution_count": 5,
   "metadata": {},
   "outputs": [],
   "source": [
    "#pip install import_ipynb"
   ]
  },
  {
   "cell_type": "code",
   "execution_count": 6,
   "metadata": {},
   "outputs": [
    {
     "name": "stdout",
     "output_type": "stream",
     "text": [
      "importing Jupyter notebook from arnoldi.ipynb\n"
     ]
    }
   ],
   "source": [
    "import import_ipynb\n",
    "import arnoldi"
   ]
  },
  {
   "cell_type": "code",
   "execution_count": 7,
   "metadata": {},
   "outputs": [],
   "source": [
    "from numpy.linalg import inv"
   ]
  },
  {
   "cell_type": "code",
   "execution_count": 8,
   "metadata": {},
   "outputs": [],
   "source": [
    "import matplotlib.pyplot as plt"
   ]
  },
  {
   "cell_type": "code",
   "execution_count": 9,
   "metadata": {},
   "outputs": [],
   "source": [
    "#kronecker-delta function\n",
    "\n",
    "def k_delta(n,m) :\n",
    "    if n == m :\n",
    "        return 1\n",
    "    else :\n",
    "        return 0"
   ]
  },
  {
   "cell_type": "code",
   "execution_count": 10,
   "metadata": {},
   "outputs": [],
   "source": [
    "# define states \n",
    "def state(mN, pN) : # num of states of mRNA, num of states of protein\n",
    "    N = mN*pN # num of states\n",
    "\n",
    "    # states for mRNA and protein\n",
    "    s = []\n",
    "    for i in range(mN) :\n",
    "        for j in range(pN) :\n",
    "            s.append(np.array([i,j]))\n",
    "    s = np.array(s)\n",
    "\n",
    "    return s, N\n"
   ]
  },
  {
   "cell_type": "code",
   "execution_count": 11,
   "metadata": {},
   "outputs": [],
   "source": [
    "# stochastic matrix\n",
    "def stochastic_matrix(mN, pN, avg_m, avg_p, alpha =5, delta = 1) :\n",
    "    \n",
    "    # production coefficient of mRNA\n",
    "    alpha = alpha\n",
    "    # production coefficient of protein\n",
    "    betta = avg_p/avg_m\n",
    "    # degradation coefficient of mRNA\n",
    "    gamma = alpha/avg_m\n",
    "    # degradation coefficient of protein\n",
    "    delta = delta # unit value\n",
    "\n",
    "    M = np.zeros((N,N))\n",
    "\n",
    "    Im = np.eye(mN+1)\n",
    "    Ip = np.eye(pN+1)\n",
    "\n",
    "    # state\n",
    "    s, N = state(mN, pN)\n",
    "\n",
    "    for i in range(N) :\n",
    "        for j in range(N) :\n",
    "        \n",
    "            M[i,j] = alpha*(Im[s[i,0],s[j,0]]*Ip[s[i,1],s[j,1]] - Im[s[i,0]-1,s[j,0]]*Ip[s[i,1],s[j,1]])\n",
    "            M[i,j] = M[i,j] + betta*s[j,0]*(Im[s[i,0],s[j,0]]*Ip[s[i,1],s[j,1]] - Im[s[i,0],s[j,0]]*Ip[s[i,1]-1,s[j,1]])\n",
    "            M[i,j] = M[i,j] + gamma*(s[i,0]*Im[s[i,0],s[j,0]]*Ip[s[i,1],s[j,1]] - s[j,0]*Im[s[i,0]+1,s[j,0]]*Ip[s[i,1],s[j,1]])\n",
    "            M[i,j] = M[i,j] + delta*(s[i,1]*Im[s[i,0],s[j,0]]*Ip[s[i,1],s[j,1]] - s[j,1]*Im[s[i,0],s[j,0]]*Ip[s[i,1]+1,s[j,1]])\n",
    "\n",
    "    #normalization\n",
    "    for i in range(N) :\n",
    "        M[i,i] = 0\n",
    "        M[i,i] = -np.sum(M[:,i])\n",
    "\n",
    "    return M\n",
    "    \n"
   ]
  },
  {
   "cell_type": "code",
   "execution_count": 12,
   "metadata": {},
   "outputs": [],
   "source": [
    "def inv_matrix(M) :\n",
    "    try :\n",
    "        return inv(M)\n",
    "    \n",
    "    except :\n",
    "        print(f'{M} is singular.')\n",
    "        return M"
   ]
  },
  {
   "cell_type": "code",
   "execution_count": 13,
   "metadata": {},
   "outputs": [],
   "source": [
    "# find state at t\n",
    "def state_t(state_i, mN, pN,t , stochastic_M) :\n",
    "\n",
    "    N = mN * pN\n",
    "\n",
    "\n",
    "    # find smallest eigenvalue \n",
    "    inv_M = inv_matrix(stochastic_M)\n",
    "    e_val, e_vec = arnoldi.QR_algorithm(inv_M,100)\n",
    "    e_val = 1/e_val #eigenvalue of original matrix\n",
    "\n",
    "    # transit to eigenvector space coordinate\n",
    "    state_ei = inv(e_vec).dot(state_i)\n",
    "\n",
    "    # final state\n",
    "    state_f = 0\n",
    "    for i in range(N) :\n",
    "        state_f += state_ei[i]*e_vec[i]*np.exp(-e_val[i]*t)\n",
    "\n",
    "    sol = np.zeros((mN, pN))\n",
    "    for i in range(mN) :\n",
    "        for j in range(pN) :\n",
    "            sol[i,j] = state_f[mN*i+j]/np.sum(state_f)\n",
    "\n",
    "    return sol\n",
    "\n",
    "    "
   ]
  },
  {
   "cell_type": "code",
   "execution_count": 17,
   "metadata": {},
   "outputs": [],
   "source": [
    "# num of states of mRNA\n",
    "mN = 10\n",
    "# num of states of protein\n",
    "pN = 10\n",
    "#num of states\n",
    "N = mN*pN"
   ]
  },
  {
   "cell_type": "code",
   "execution_count": 30,
   "metadata": {},
   "outputs": [],
   "source": [
    "# states for mRNA and protein\n",
    "s = []\n",
    "for i in range(mN) :\n",
    "    for j in range(pN) :\n",
    "        s.append(np.array([i,j]))\n",
    "\n",
    "s = np.array(s)\n"
   ]
  },
  {
   "cell_type": "code",
   "execution_count": 31,
   "metadata": {},
   "outputs": [],
   "source": [
    "# average of mRNA\n",
    "avg_m = 5\n",
    "# average of protein \n",
    "avg_p = 12"
   ]
  },
  {
   "cell_type": "code",
   "execution_count": 32,
   "metadata": {},
   "outputs": [],
   "source": [
    "# production coefficient of mRNA\n",
    "alpha = 5\n",
    "# production coefficient of protein\n",
    "betta = avg_p/avg_m\n",
    "# degradation coefficient of mRNA\n",
    "gamma = alpha/avg_m\n",
    "# degradation coefficient of protein\n",
    "delta = 1 # unit value"
   ]
  },
  {
   "cell_type": "code",
   "execution_count": 33,
   "metadata": {},
   "outputs": [
    {
     "name": "stdout",
     "output_type": "stream",
     "text": [
      "5 2.4 1.0 1\n"
     ]
    }
   ],
   "source": [
    "print(alpha,betta,gamma,delta)"
   ]
  },
  {
   "cell_type": "code",
   "execution_count": 34,
   "metadata": {},
   "outputs": [
    {
     "data": {
      "text/plain": [
       "array([[1., 0., 0.],\n",
       "       [0., 1., 0.],\n",
       "       [0., 0., 1.]])"
      ]
     },
     "execution_count": 34,
     "metadata": {},
     "output_type": "execute_result"
    }
   ],
   "source": [
    "np.eye(3)"
   ]
  },
  {
   "cell_type": "code",
   "execution_count": 35,
   "metadata": {},
   "outputs": [],
   "source": [
    "# # Stochastic matrix\n",
    "# M = np.zeros((N,N))\n",
    "\n",
    "# I = np.eye()\n",
    "\n",
    "# for i in range(N) :\n",
    "#     for j in range(N) :\n",
    "#         # Diagonal comonent\n",
    "#         if i == j :\n",
    "#             M[i, j] = alpha + s[i,0]*betta + s[i,0]*gamma + s[i,1]*delta\n",
    "        \n",
    "#         # off-diagonal component\n",
    "\n",
    "#         # degradation of mRNA(m+1 -> m)\n",
    "#         elif  s[i,0] - s[j,0] == -1 :\n",
    "#             if abs(s[i,1] - s[j,1]) != 0 :\n",
    "#                 break\n",
    "#             M[i,j] = M[i,j] - s[j,0]*gamma\n",
    "#         # production of mRNA(m-1 =>m)\n",
    "#         elif s[i,0] + s[j,0] == 1 :\n",
    "#             if abs(s[i,1] - s[j,1]) != 0 :\n",
    "#                 break\n",
    "#             M[i,j] = M[i,j] - alpha\n",
    "#         # degradation of protein(p+1 -> p)\n",
    "#         elif  s[i,1] - s[j,1] == -1 :\n",
    "#             if abs(s[i,0] - s[j,0]) != 0 :\n",
    "#                 break\n",
    "#             M[i,j] = M[i,j] - s[j,1]*delta\n",
    "#         # degradation of protein(p-1 -> p)\n",
    "#         elif  s[i,1] - s[j,1] == 1 :\n",
    "#             if abs(s[i,0] - s[j,0]) != 0 :\n",
    "#                 break\n",
    "#             M[i,j] = M[i,j] - s[j,0]*betta\n",
    "\n"
   ]
  },
  {
   "cell_type": "code",
   "execution_count": 36,
   "metadata": {},
   "outputs": [],
   "source": [
    "# Stochastic matrix\n",
    "M = np.zeros((N,N))\n",
    "\n",
    "Im = np.eye(mN+1)\n",
    "Ip = np.eye(pN+1)\n",
    "\n",
    "for i in range(N) :\n",
    "    for j in range(N) :\n",
    "        \n",
    "        M[i,j] = alpha*(Im[s[i,0],s[j,0]]*Ip[s[i,1],s[j,1]] - Im[s[i,0]-1,s[j,0]]*Ip[s[i,1],s[j,1]])\n",
    "        M[i,j] = M[i,j] + betta*s[j,0]*(Im[s[i,0],s[j,0]]*Ip[s[i,1],s[j,1]] - Im[s[i,0],s[j,0]]*Ip[s[i,1]-1,s[j,1]])\n",
    "        M[i,j] = M[i,j] + gamma*(s[i,0]*Im[s[i,0],s[j,0]]*Ip[s[i,1],s[j,1]] - s[j,0]*Im[s[i,0]+1,s[j,0]]*Ip[s[i,1],s[j,1]])\n",
    "        M[i,j] = M[i,j] + delta*(s[i,1]*Im[s[i,0],s[j,0]]*Ip[s[i,1],s[j,1]] - s[j,1]*Im[s[i,0],s[j,0]]*Ip[s[i,1]+1,s[j,1]])\n",
    "\n",
    "#normalization\n",
    "for i in range(N) :\n",
    "    M[i,i] = 0\n",
    "    M[i,i] = -np.sum(M[:,i])"
   ]
  },
  {
   "cell_type": "code",
   "execution_count": 37,
   "metadata": {},
   "outputs": [
    {
     "data": {
      "text/plain": [
       "array([ 0.,  0., -3.,  8.,  0.,  0.,  0.,  0.,  0.,  0.,  0.,  0.,  0.,\n",
       "       -5.,  0.,  0.,  0.,  0.,  0.,  0.,  0.,  0.,  0.,  0.,  0.,  0.,\n",
       "        0.,  0.,  0.,  0.,  0.,  0.,  0.,  0.,  0.,  0.,  0.,  0.,  0.,\n",
       "        0.,  0.,  0.,  0.,  0.,  0.,  0.,  0.,  0.,  0.,  0.,  0.,  0.,\n",
       "        0.,  0.,  0.,  0.,  0.,  0.,  0.,  0.,  0.,  0.,  0.,  0.,  0.,\n",
       "        0.,  0.,  0.,  0.,  0.,  0.,  0.,  0.,  0.,  0.,  0.,  0.,  0.,\n",
       "        0.,  0.,  0.,  0.,  0.,  0.,  0.,  0.,  0.,  0.,  0.,  0.,  0.,\n",
       "        0.,  0.,  0.,  0.,  0.,  0.,  0.,  0.,  0.])"
      ]
     },
     "execution_count": 37,
     "metadata": {},
     "output_type": "execute_result"
    }
   ],
   "source": [
    "M[:,3]"
   ]
  },
  {
   "cell_type": "code",
   "execution_count": 38,
   "metadata": {},
   "outputs": [
    {
     "data": {
      "text/plain": [
       "array([ 0.00000000e+00,  0.00000000e+00,  0.00000000e+00,  0.00000000e+00,\n",
       "        0.00000000e+00,  0.00000000e+00,  0.00000000e+00,  0.00000000e+00,\n",
       "        0.00000000e+00,  0.00000000e+00,  0.00000000e+00,  0.00000000e+00,\n",
       "        0.00000000e+00,  0.00000000e+00,  0.00000000e+00,  0.00000000e+00,\n",
       "        0.00000000e+00,  0.00000000e+00, -1.77635684e-15,  0.00000000e+00,\n",
       "        8.88178420e-16,  8.88178420e-16,  8.88178420e-16,  8.88178420e-16,\n",
       "        8.88178420e-16,  8.88178420e-16,  8.88178420e-16,  8.88178420e-16,\n",
       "        8.88178420e-16,  0.00000000e+00,  0.00000000e+00,  0.00000000e+00,\n",
       "        0.00000000e+00,  0.00000000e+00,  0.00000000e+00,  0.00000000e+00,\n",
       "        0.00000000e+00,  0.00000000e+00,  0.00000000e+00,  0.00000000e+00,\n",
       "        1.77635684e-15,  1.77635684e-15,  1.77635684e-15,  1.77635684e-15,\n",
       "        1.77635684e-15,  1.77635684e-15,  1.77635684e-15,  1.77635684e-15,\n",
       "        1.77635684e-15,  0.00000000e+00,  0.00000000e+00,  0.00000000e+00,\n",
       "        0.00000000e+00,  0.00000000e+00,  0.00000000e+00,  0.00000000e+00,\n",
       "        0.00000000e+00,  0.00000000e+00,  0.00000000e+00,  0.00000000e+00,\n",
       "        0.00000000e+00,  0.00000000e+00,  0.00000000e+00,  0.00000000e+00,\n",
       "        0.00000000e+00,  0.00000000e+00,  0.00000000e+00,  0.00000000e+00,\n",
       "        0.00000000e+00,  0.00000000e+00,  0.00000000e+00,  0.00000000e+00,\n",
       "        0.00000000e+00,  0.00000000e+00, -3.55271368e-15, -3.55271368e-15,\n",
       "       -3.55271368e-15, -3.55271368e-15, -3.55271368e-15,  0.00000000e+00,\n",
       "        3.55271368e-15,  3.55271368e-15,  3.55271368e-15,  3.55271368e-15,\n",
       "        3.55271368e-15,  3.55271368e-15,  3.55271368e-15,  3.55271368e-15,\n",
       "        3.55271368e-15,  0.00000000e+00,  0.00000000e+00,  0.00000000e+00,\n",
       "       -3.55271368e-15, -3.55271368e-15, -3.55271368e-15, -3.55271368e-15,\n",
       "       -3.55271368e-15, -3.55271368e-15, -3.55271368e-15,  0.00000000e+00])"
      ]
     },
     "execution_count": 38,
     "metadata": {},
     "output_type": "execute_result"
    }
   ],
   "source": [
    "np.sum(M, axis = 0)"
   ]
  },
  {
   "cell_type": "code",
   "execution_count": 39,
   "metadata": {},
   "outputs": [
    {
     "data": {
      "text/plain": [
       "array([[  5. ,  -1. ,   0. , ...,   0. ,   0. ,   0. ],\n",
       "       [  0. ,   6. ,  -2. , ...,   0. ,   0. ,   0. ],\n",
       "       [  0. ,   0. ,   7. , ...,   0. ,   0. ,   0. ],\n",
       "       ...,\n",
       "       [  0. ,   0. ,   0. , ...,  37.6,  -8. ,   0. ],\n",
       "       [  0. ,   0. ,   0. , ..., -21.6,  38.6,  -9. ],\n",
       "       [  0. ,   0. ,   0. , ...,   0. , -21.6,  18. ]])"
      ]
     },
     "execution_count": 39,
     "metadata": {},
     "output_type": "execute_result"
    }
   ],
   "source": [
    "M"
   ]
  },
  {
   "cell_type": "code",
   "execution_count": 42,
   "metadata": {},
   "outputs": [],
   "source": [
    "e_val, e_vec = arnoldi.QR_algorithm(M, 100)"
   ]
  },
  {
   "cell_type": "code",
   "execution_count": 43,
   "metadata": {},
   "outputs": [
    {
     "data": {
      "text/plain": [
       "array([ 6.78459210e+01+0.j        ,  6.03455702e+01+0.j        ,\n",
       "        5.93584712e+01+0.j        ,  5.44266924e+01+0.j        ,\n",
       "        5.27291862e+01+0.24678261j,  5.27291862e+01-0.24678261j,\n",
       "        4.92098366e+01+0.j        ,  4.83507849e+01+0.j        ,\n",
       "        4.65060928e+01+0.67144806j,  4.65060928e+01-0.67144806j,\n",
       "        4.44826214e+01+0.j        ,  4.36213842e+01+0.j        ,\n",
       "        4.18287127e+01+0.j        ,  4.12718969e+01+0.88763961j,\n",
       "        4.12718969e+01-0.88763961j,  4.01019088e+01+0.j        ,\n",
       "        3.85152235e+01+0.j        ,  3.72830105e+01+0.20264841j,\n",
       "        3.72830105e+01-0.20264841j,  3.64356039e+01+1.07968549j,\n",
       "        3.64356039e+01-1.07968549j,  3.59731976e+01+0.j        ,\n",
       "        3.30099645e+01+0.25011046j,  3.30099645e+01-0.25011046j,\n",
       "        3.28545442e+01+0.71390155j,  3.28545442e+01-0.71390155j,\n",
       "        3.20173128e+01+1.24702333j,  3.20173128e+01-1.24702333j,\n",
       "        3.20080513e+01+0.j        ,  2.89746669e+01+0.j        ,\n",
       "        2.82183577e+01+1.18515195j,  2.82183577e+01-1.18515195j,\n",
       "        2.79969963e+01+1.39935371j,  2.79969963e+01-1.39935371j,\n",
       "        2.82099762e+01+0.37544515j,  2.82099762e+01-0.37544515j,\n",
       "        2.80640445e+01+0.j        ,  2.54374365e+01+0.j        ,\n",
       "        2.41680556e+01+1.64198816j,  2.41680556e+01-1.64198816j,\n",
       "        2.40737978e+01+1.07220186j,  2.40737978e+01-1.07220186j,\n",
       "        2.39989868e+01+0.26852286j,  2.39989868e+01-0.26852286j,\n",
       "        2.23771712e+01+0.j        ,  2.19800512e+01+0.j        ,\n",
       "        2.06029294e+01+1.71809634j,  2.06029294e+01-1.71809634j,\n",
       "        2.12134475e+01+0.j        ,  2.04653406e+01+1.04524058j,\n",
       "        2.04653406e+01-1.04524058j,  2.05139486e+01+0.20208591j,\n",
       "        2.05139486e+01-0.20208591j,  1.87370483e+01+0.j        ,\n",
       "        1.73412394e+01+1.74111524j,  1.73412394e+01-1.74111524j,\n",
       "        1.71590422e+01+1.03724001j,  1.71590422e+01-1.03724001j,\n",
       "        1.73200914e+01+0.31009083j,  1.73200914e+01-0.31009083j,\n",
       "        1.69842656e+01+0.j        ,  1.59653438e+01+0.j        ,\n",
       "        1.43694177e+01+1.72513307j,  1.43694177e+01-1.72513307j,\n",
       "        1.40941942e+01+0.97607499j,  1.40941942e+01-0.97607499j,\n",
       "        1.39503306e+01+0.11247235j,  1.39503306e+01-0.11247235j,\n",
       "        1.37386827e+01+0.j        ,  1.29917283e+01+0.j        ,\n",
       "        1.16851615e+01+1.67521934j,  1.16851615e+01-1.67521934j,\n",
       "        1.13579526e+01+0.88843876j,  1.13579526e+01-0.88843876j,\n",
       "        1.18010415e+01+0.j        ,  1.14607306e+01+0.j        ,\n",
       "        1.11692250e+01+0.j        ,  1.07485115e+01+0.j        ,\n",
       "        9.30070341e+00+1.56658021j,  9.30070341e+00-1.56658021j,\n",
       "        9.03671840e+00+0.7636509j ,  9.03671840e+00-0.7636509j ,\n",
       "        8.82304890e+00+0.j        ,  8.94141370e+00+0.j        ,\n",
       "        7.18971531e+00+1.33933726j,  7.18971531e+00-1.33933726j,\n",
       "        7.03518758e+00+0.4448383j ,  7.03518758e+00-0.4448383j ,\n",
       "        6.49224494e+00+0.j        ,  5.27623873e+00+0.98269197j,\n",
       "        5.27623873e+00-0.98269197j,  5.20751181e+00+0.j        ,\n",
       "        4.43195698e+00+0.j        ,  3.51229927e+00+0.52884243j,\n",
       "        3.51229927e+00-0.52884243j,  2.64151132e+00+0.j        ,\n",
       "        1.87595389e+00+0.j        ,  1.15651085e+00+0.j        ,\n",
       "       -9.67568074e-05+0.j        ,  2.50592638e-15+0.j        ])"
      ]
     },
     "execution_count": 43,
     "metadata": {},
     "output_type": "execute_result"
    }
   ],
   "source": [
    "e_val"
   ]
  },
  {
   "cell_type": "code",
   "execution_count": 44,
   "metadata": {},
   "outputs": [
    {
     "data": {
      "text/plain": [
       "array([[ 9.99999982e-01+0.j,  7.63478380e-01+0.j, -4.15221221e-01+0.j,\n",
       "        ...,  1.52695696e-03+0.j, -9.00909831e-02+0.j,\n",
       "        -3.31505020e-02+0.j],\n",
       "       [ 1.87157409e-04+0.j,  6.22964943e-01+0.j, -5.20297145e-01+0.j,\n",
       "        ...,  1.42615542e-03+0.j,  6.15170742e-02+0.j,\n",
       "        -9.16690590e-03+0.j],\n",
       "       [ 7.14662763e-06+0.j,  1.70337095e-01+0.j, -7.46232078e-01+0.j,\n",
       "        ..., -2.26247420e-03+0.j, -1.18623235e-01+0.j,\n",
       "        -5.01523632e-02+0.j],\n",
       "       ...,\n",
       "       [ 0.00000000e+00+0.j,  0.00000000e+00+0.j,  0.00000000e+00+0.j,\n",
       "        ...,  3.64324933e-01+0.j, -8.63968856e-03+0.j,\n",
       "         2.45246173e-02+0.j],\n",
       "       [ 0.00000000e+00+0.j,  0.00000000e+00+0.j,  0.00000000e+00+0.j,\n",
       "        ...,  0.00000000e+00+0.j,  7.46345591e-01+0.j,\n",
       "        -2.40115416e-01+0.j],\n",
       "       [ 0.00000000e+00+0.j,  0.00000000e+00+0.j,  0.00000000e+00+0.j,\n",
       "        ...,  0.00000000e+00+0.j,  0.00000000e+00+0.j,\n",
       "         6.65088975e-01+0.j]])"
      ]
     },
     "execution_count": 44,
     "metadata": {},
     "output_type": "execute_result"
    }
   ],
   "source": [
    "e_vec"
   ]
  },
  {
   "cell_type": "code",
   "execution_count": 45,
   "metadata": {},
   "outputs": [
    {
     "data": {
      "text/plain": [
       "(array([ 6.78459210e+01+0.j        ,  6.03455702e+01+0.j        ,\n",
       "         5.93584712e+01+0.j        ,  5.44266924e+01+0.j        ,\n",
       "         5.27291862e+01+0.24678261j,  5.27291862e+01-0.24678261j,\n",
       "         4.92098366e+01+0.j        ,  4.83507849e+01+0.j        ,\n",
       "         4.65060928e+01+0.67144806j,  4.65060928e+01-0.67144806j,\n",
       "         4.44826214e+01+0.j        ,  4.36213842e+01+0.j        ,\n",
       "         4.18287127e+01+0.j        ,  4.12718969e+01+0.88763961j,\n",
       "         4.12718969e+01-0.88763961j,  4.01019088e+01+0.j        ,\n",
       "         3.85152235e+01+0.j        ,  3.72830105e+01+0.20264841j,\n",
       "         3.72830105e+01-0.20264841j,  3.64356039e+01+1.07968549j,\n",
       "         3.64356039e+01-1.07968549j,  3.59731976e+01+0.j        ,\n",
       "         3.30099645e+01+0.25011046j,  3.30099645e+01-0.25011046j,\n",
       "         3.28545442e+01+0.71390155j,  3.28545442e+01-0.71390155j,\n",
       "         3.20173128e+01+1.24702333j,  3.20173128e+01-1.24702333j,\n",
       "         3.20080513e+01+0.j        ,  2.89746669e+01+0.j        ,\n",
       "         2.79969963e+01+1.39935371j,  2.79969963e+01-1.39935371j,\n",
       "         2.82183577e+01+1.18515195j,  2.82183577e+01-1.18515195j,\n",
       "         2.82099762e+01+0.37544515j,  2.82099762e+01-0.37544515j,\n",
       "         2.80640445e+01+0.j        ,  2.54374365e+01+0.j        ,\n",
       "         2.41680556e+01+1.64198816j,  2.41680556e+01-1.64198816j,\n",
       "         2.40737978e+01+1.07220186j,  2.40737978e+01-1.07220186j,\n",
       "         2.39989868e+01+0.26852286j,  2.39989868e+01-0.26852286j,\n",
       "         2.23771712e+01+0.j        ,  2.19800512e+01+0.j        ,\n",
       "         2.06029294e+01+1.71809634j,  2.06029294e+01-1.71809634j,\n",
       "         2.12134475e+01+0.j        ,  2.04653406e+01+1.04524058j,\n",
       "         2.04653406e+01-1.04524058j,  2.05139486e+01+0.20208591j,\n",
       "         2.05139486e+01-0.20208591j,  1.87370483e+01+0.j        ,\n",
       "         1.73412394e+01+1.74111524j,  1.73412394e+01-1.74111524j,\n",
       "         1.71590422e+01+1.03724001j,  1.71590422e+01-1.03724001j,\n",
       "         1.73200914e+01+0.31009083j,  1.73200914e+01-0.31009083j,\n",
       "         1.69842656e+01+0.j        ,  1.59653438e+01+0.j        ,\n",
       "         1.43694177e+01+1.72513307j,  1.43694177e+01-1.72513307j,\n",
       "         1.40941942e+01+0.97607499j,  1.40941942e+01-0.97607499j,\n",
       "         1.39503306e+01+0.11247235j,  1.39503306e+01-0.11247235j,\n",
       "         1.37386827e+01+0.j        ,  1.29917283e+01+0.j        ,\n",
       "         1.16851615e+01+1.67521934j,  1.16851615e+01-1.67521934j,\n",
       "         1.13579526e+01+0.88843876j,  1.13579526e+01-0.88843876j,\n",
       "         1.18010415e+01+0.j        ,  1.14607306e+01+0.j        ,\n",
       "         1.11692250e+01+0.j        ,  1.07485115e+01+0.j        ,\n",
       "         9.30070341e+00+1.56658021j,  9.30070341e+00-1.56658021j,\n",
       "         9.03671840e+00+0.7636509j ,  9.03671840e+00-0.7636509j ,\n",
       "         8.94141370e+00+0.j        ,  8.82304890e+00+0.j        ,\n",
       "         7.18971531e+00+1.33933726j,  7.18971531e+00-1.33933726j,\n",
       "         7.03518758e+00+0.4448383j ,  7.03518758e+00-0.4448383j ,\n",
       "         6.49224494e+00+0.j        ,  5.27623873e+00+0.98269197j,\n",
       "         5.27623873e+00-0.98269197j,  5.20751181e+00+0.j        ,\n",
       "         4.43195698e+00+0.j        ,  3.51229927e+00+0.52884243j,\n",
       "         3.51229927e+00-0.52884243j,  2.64151132e+00+0.j        ,\n",
       "         1.87595389e+00+0.j        ,  1.15651085e+00+0.j        ,\n",
       "        -9.67568074e-05+0.j        ,  2.50592638e-15+0.j        ]),\n",
       " array([[-1.00000000e+00+0.j,  7.63596175e-01+0.j, -4.15323923e-01+0.j,\n",
       "         ...,  1.52720767e-03+0.j, -9.00803157e-02+0.j,\n",
       "         -3.31525749e-02+0.j],\n",
       "        [-1.82781613e-09+0.j,  6.45136542e-01+0.j, -6.73841771e-01+0.j,\n",
       "         ...,  8.83945966e-04+0.j,  3.34774626e-02+0.j,\n",
       "         -2.01003234e-02+0.j],\n",
       "        [-9.27086800e-12+0.j,  2.68276510e-02+0.j, -6.11100079e-01+0.j,\n",
       "         ..., -2.52426422e-03+0.j, -1.29308615e-01+0.j,\n",
       "         -4.66209584e-02+0.j],\n",
       "        ...,\n",
       "        [ 0.00000000e+00+0.j,  0.00000000e+00+0.j,  0.00000000e+00+0.j,\n",
       "         ...,  3.64324933e-01+0.j, -8.63968856e-03+0.j,\n",
       "          2.45246173e-02+0.j],\n",
       "        [ 0.00000000e+00+0.j,  0.00000000e+00+0.j,  0.00000000e+00+0.j,\n",
       "         ...,  0.00000000e+00+0.j,  7.46345591e-01+0.j,\n",
       "         -2.40115416e-01+0.j],\n",
       "        [ 0.00000000e+00+0.j,  0.00000000e+00+0.j,  0.00000000e+00+0.j,\n",
       "         ...,  0.00000000e+00+0.j,  0.00000000e+00+0.j,\n",
       "          6.65088975e-01+0.j]]))"
      ]
     },
     "execution_count": 45,
     "metadata": {},
     "output_type": "execute_result"
    }
   ],
   "source": [
    "arnoldi.QR_algorithm(M,200)"
   ]
  },
  {
   "cell_type": "code",
   "execution_count": 46,
   "metadata": {},
   "outputs": [],
   "source": [
    "#https://github.com/sh0408sh/NSFCS/tree/be2ebc9a19401de8e3b298c21db9eb91c486ebd1/eigenvalue_prob"
   ]
  },
  {
   "cell_type": "code",
   "execution_count": 47,
   "metadata": {},
   "outputs": [],
   "source": [
    "# Find the smallest eigenvalue : consider inverse matrix\n",
    "from numpy.linalg import inv\n",
    "\n",
    "def inv_matrix(M) :\n",
    "    try :\n",
    "        return inv(M)\n",
    "    \n",
    "    except :\n",
    "        print(f'{M} is singular.')\n",
    "        return M"
   ]
  },
  {
   "cell_type": "code",
   "execution_count": 48,
   "metadata": {},
   "outputs": [],
   "source": [
    "inv_M = inv_matrix(M)\n",
    "#eigenvalue of inverse matrix\n",
    "e_val, e_vec = arnoldi.QR_algorithm(inv_M,100)\n",
    "e_val = 1/e_val\n"
   ]
  },
  {
   "cell_type": "code",
   "execution_count": 49,
   "metadata": {},
   "outputs": [
    {
     "data": {
      "text/plain": [
       "array([-3.64203276e-16 -0.j        ,  1.15760275e+00 +0.j        ,\n",
       "        2.09489984e+00 -0.26120575j,  2.09489984e+00 +0.26120575j,\n",
       "        3.48961052e+00 +0.j        ,  3.61139747e+00 -1.6863307j ,\n",
       "        3.61139747e+00 +1.6863307j ,  4.69155429e+00 +0.j        ,\n",
       "        4.81641874e+00 -0.60342502j,  4.81641874e+00 +0.60342502j,\n",
       "        5.75546655e+00 -1.64331296j,  5.75546655e+00 +1.64331296j,\n",
       "        6.52179507e+00 -1.05678878j,  6.52179507e+00 +1.05678878j,\n",
       "        7.00289233e+00 +0.j        , -1.22990243e+01 -0.j        ,\n",
       "        7.57522448e+00 -2.51686108j,  7.57522448e+00 +2.51686108j,\n",
       "        2.93227682e+00-12.21235289j,  2.93227682e+00+12.21235289j,\n",
       "        8.44197625e+00 -1.10979629j,  8.44197625e+00 +1.10979629j,\n",
       "        8.67663782e+00 +0.j        ,  9.01104480e+00 -5.29482827j,\n",
       "        9.01104480e+00 +5.29482827j, -2.10240475e+01 -0.j        ,\n",
       "        9.67737035e+00 -3.22379738j,  9.67737035e+00 +3.22379738j,\n",
       "        9.85935792e+00 -1.65735423j,  9.85935792e+00 +1.65735423j,\n",
       "        9.94297292e+00 -0.5085832j ,  9.94297292e+00 +0.5085832j ,\n",
       "        1.06088882e+01 -6.3882436j ,  1.06088882e+01 +6.3882436j ,\n",
       "        1.12022757e+01 -2.73420082j,  1.12022757e+01 +2.73420082j,\n",
       "        1.12290661e+01 +0.j        ,  1.21633264e+01 -2.4491277j ,\n",
       "        1.21633264e+01 +2.4491277j ,  1.30277811e+01 -5.14767802j,\n",
       "        1.30277811e+01 +5.14767802j,  1.17253585e+01-17.25303056j,\n",
       "        1.17253585e+01+17.25303056j,  1.33714644e+01 -0.84886616j,\n",
       "        1.33714644e+01 +0.84886616j,  1.38015498e+01 -2.87317808j,\n",
       "        1.38015498e+01 +2.87317808j, -2.03901406e+01-34.44401407j,\n",
       "       -2.03901406e+01+34.44401407j,  1.45936713e+01 +0.j        ,\n",
       "        1.59740945e+01 -4.32962301j,  1.59740945e+01 +4.32962301j,\n",
       "        1.56618766e+01 -2.88356408j,  1.56618766e+01 +2.88356408j,\n",
       "        1.57216951e+01 -1.37145134j,  1.57216951e+01 +1.37145134j,\n",
       "        1.61280687e+01 +0.j        , -4.94146789e+01 -0.j        ,\n",
       "        1.70887529e+01 +0.j        ,  1.95002798e+01-10.78304349j,\n",
       "        1.95002798e+01+10.78304349j,  1.85084272e+01 -4.93286524j,\n",
       "        1.85084272e+01 +4.93286524j,  1.99108129e+01 -3.48197874j,\n",
       "        1.99108129e+01 +3.48197874j,  2.03400163e+01 +0.j        ,\n",
       "        2.61956481e+01-17.82392812j,  2.61956481e+01+17.82392812j,\n",
       "        2.17837629e+01 -2.04645114j,  2.17837629e+01 +2.04645114j,\n",
       "        2.23250225e+01 +0.j        ,  2.33815457e+01-39.61409734j,\n",
       "        2.33815457e+01+39.61409734j,  2.40785397e+01 -2.52409768j,\n",
       "        2.40785397e+01 +2.52409768j,  2.60652382e+01 -5.60941049j,\n",
       "        2.60652382e+01 +5.60941049j,  2.73330863e+01 -3.42717971j,\n",
       "        2.73330863e+01 +3.42717971j,  2.84391342e+01 -1.89739692j,\n",
       "        2.84391342e+01 +1.89739692j,  2.96130839e+01 +0.j        ,\n",
       "        3.12125456e+01 -1.55098905j,  3.12125456e+01 +1.55098905j,\n",
       "        3.55825838e+01 -5.64599836j,  3.55825838e+01 +5.64599836j,\n",
       "        3.51866077e+01 -2.19887896j,  3.51866077e+01 +2.19887896j,\n",
       "        3.98948462e+01 -1.57258882j,  3.98948462e+01 +1.57258882j,\n",
       "        5.30493049e+01-16.56753488j,  5.30493049e+01+16.56753488j,\n",
       "        4.69854579e+01 -6.27404737j,  4.69854579e+01 +6.27404737j,\n",
       "        4.63979741e+01 -1.55952949j,  4.63979741e+01 +1.55952949j,\n",
       "        5.42728494e+01 +0.j        ,  7.42959257e+01 +0.j        ,\n",
       "       -9.04629054e+02 -0.j        ,  9.48745969e+13 +0.j        ])"
      ]
     },
     "execution_count": 49,
     "metadata": {},
     "output_type": "execute_result"
    }
   ],
   "source": [
    "e_val"
   ]
  },
  {
   "cell_type": "code",
   "execution_count": 18,
   "metadata": {},
   "outputs": [],
   "source": [
    "# initial vector \n",
    "basis = np.eye(N)\n",
    "\n",
    "state_i = basis[1]"
   ]
  },
  {
   "cell_type": "code",
   "execution_count": 20,
   "metadata": {},
   "outputs": [
    {
     "data": {
      "text/plain": [
       "(100,)"
      ]
     },
     "execution_count": 20,
     "metadata": {},
     "output_type": "execute_result"
    }
   ],
   "source": [
    "state_i.shape"
   ]
  },
  {
   "cell_type": "code",
   "execution_count": 53,
   "metadata": {},
   "outputs": [],
   "source": [
    "#time \n",
    "t = 0"
   ]
  },
  {
   "cell_type": "code",
   "execution_count": 51,
   "metadata": {},
   "outputs": [],
   "source": [
    "# transit to eigenvector space coordinate\n",
    "state_ei = inv(e_vec).dot(state_i)\n"
   ]
  },
  {
   "cell_type": "code",
   "execution_count": 54,
   "metadata": {},
   "outputs": [],
   "source": [
    "# final state\n",
    "state_f = 0\n",
    "for i in range(N) :\n",
    "    state_f += state_ei[i]*e_vec[i]*np.exp(-e_val[i]*t)\n"
   ]
  },
  {
   "cell_type": "code",
   "execution_count": 55,
   "metadata": {},
   "outputs": [
    {
     "name": "stderr",
     "output_type": "stream",
     "text": [
      "C:\\Users\\LG\\AppData\\Local\\Temp\\ipykernel_8728\\2929480359.py:4: ComplexWarning: Casting complex values to real discards the imaginary part\n",
      "  sol[i,j] = state_f[mN*i+j]/np.sum(state_f)\n"
     ]
    }
   ],
   "source": [
    "sol = np.zeros((mN, pN))\n",
    "for i in range(mN) :\n",
    "    for j in range(pN) :\n",
    "        sol[i,j] = state_f[mN*i+j]/np.sum(state_f)\n",
    "\n",
    "    "
   ]
  },
  {
   "cell_type": "code",
   "execution_count": 57,
   "metadata": {},
   "outputs": [],
   "source": [
    "import matplotlib.pyplot as plt"
   ]
  },
  {
   "cell_type": "code",
   "execution_count": 21,
   "metadata": {},
   "outputs": [
    {
     "ename": "NameError",
     "evalue": "name 't' is not defined",
     "output_type": "error",
     "traceback": [
      "\u001b[1;31m---------------------------------------------------------------------------\u001b[0m",
      "\u001b[1;31mNameError\u001b[0m                                 Traceback (most recent call last)",
      "\u001b[1;32m~\\AppData\\Local\\Temp\\ipykernel_16908\\1534098536.py\u001b[0m in \u001b[0;36m<module>\u001b[1;34m\u001b[0m\n\u001b[1;32m----> 1\u001b[1;33m \u001b[0mplt\u001b[0m\u001b[1;33m.\u001b[0m\u001b[0mtitle\u001b[0m\u001b[1;33m(\u001b[0m\u001b[1;34mf\"t= {t}\"\u001b[0m\u001b[1;33m)\u001b[0m\u001b[1;33m\u001b[0m\u001b[1;33m\u001b[0m\u001b[0m\n\u001b[0m\u001b[0;32m      2\u001b[0m \u001b[0mplt\u001b[0m\u001b[1;33m.\u001b[0m\u001b[0mxlabel\u001b[0m\u001b[1;33m(\u001b[0m\u001b[1;34m\"num of protein\"\u001b[0m\u001b[1;33m)\u001b[0m\u001b[1;33m\u001b[0m\u001b[1;33m\u001b[0m\u001b[0m\n\u001b[0;32m      3\u001b[0m \u001b[0mplt\u001b[0m\u001b[1;33m.\u001b[0m\u001b[0mylabel\u001b[0m\u001b[1;33m(\u001b[0m\u001b[1;34m\"num of mRNA\"\u001b[0m\u001b[1;33m)\u001b[0m\u001b[1;33m\u001b[0m\u001b[1;33m\u001b[0m\u001b[0m\n\u001b[0;32m      4\u001b[0m \u001b[0mplt\u001b[0m\u001b[1;33m.\u001b[0m\u001b[0mimshow\u001b[0m\u001b[1;33m(\u001b[0m\u001b[0msol\u001b[0m\u001b[1;33m,\u001b[0m \u001b[0morigin\u001b[0m\u001b[1;33m=\u001b[0m\u001b[1;34m\"lower\"\u001b[0m\u001b[1;33m)\u001b[0m\u001b[1;33m\u001b[0m\u001b[1;33m\u001b[0m\u001b[0m\n\u001b[0;32m      5\u001b[0m \u001b[0mplt\u001b[0m\u001b[1;33m.\u001b[0m\u001b[0mcolorbar\u001b[0m\u001b[1;33m(\u001b[0m\u001b[1;33m)\u001b[0m\u001b[1;33m\u001b[0m\u001b[1;33m\u001b[0m\u001b[0m\n",
      "\u001b[1;31mNameError\u001b[0m: name 't' is not defined"
     ]
    }
   ],
   "source": [
    "plt.title(f\"t= {t}\")\n",
    "plt.xlabel(\"num of protein\")\n",
    "plt.ylabel(\"num of mRNA\")\n",
    "plt.imshow(sol, origin=\"lower\")\n",
    "plt.colorbar()"
   ]
  },
  {
   "cell_type": "code",
   "execution_count": 1,
   "metadata": {},
   "outputs": [],
   "source": [
    "from matplotlib.animation import FuncAnimation\n",
    "from matplotlib.animation import FFMpegWriter"
   ]
  },
  {
   "cell_type": "code",
   "execution_count": null,
   "metadata": {},
   "outputs": [],
   "source": [
    "fig = plt.figure\n",
    "basis = np.eye(N)\n",
    "state_i = basis[1]\n",
    "\n",
    "def animation( t ) :\n",
    "    fig.clear\n"
   ]
  }
 ],
 "metadata": {
  "kernelspec": {
   "display_name": "base",
   "language": "python",
   "name": "python3"
  },
  "language_info": {
   "codemirror_mode": {
    "name": "ipython",
    "version": 3
   },
   "file_extension": ".py",
   "mimetype": "text/x-python",
   "name": "python",
   "nbconvert_exporter": "python",
   "pygments_lexer": "ipython3",
   "version": "3.9.13"
  },
  "orig_nbformat": 4
 },
 "nbformat": 4,
 "nbformat_minor": 2
}
