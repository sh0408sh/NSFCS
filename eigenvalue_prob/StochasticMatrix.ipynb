{
 "cells": [
  {
   "cell_type": "code",
   "execution_count": 2,
   "metadata": {},
   "outputs": [],
   "source": [
    "import numpy as np\n",
    "import itertools as it"
   ]
  },
  {
   "cell_type": "code",
   "execution_count": 3,
   "metadata": {},
   "outputs": [],
   "source": [
    "# num of states of mRNA\n",
    "mN = 10\n",
    "# num of states of protein\n",
    "pN = 10\n",
    "#num of states\n",
    "N = mN*pN"
   ]
  },
  {
   "cell_type": "code",
   "execution_count": 4,
   "metadata": {},
   "outputs": [],
   "source": [
    "# states for mRNA and protein\n",
    "s = []\n",
    "for i in range(mN) :\n",
    "    for j in range(pN) :\n",
    "        s.append(np.array([i,j]))\n",
    "\n",
    "s = np.array(s)\n"
   ]
  },
  {
   "cell_type": "code",
   "execution_count": 5,
   "metadata": {},
   "outputs": [],
   "source": [
    "# average of mRNA\n",
    "avg_m = 5\n",
    "# average of protein \n",
    "avg_p = 12"
   ]
  },
  {
   "cell_type": "code",
   "execution_count": 6,
   "metadata": {},
   "outputs": [],
   "source": [
    "# production coefficient of mRNA\n",
    "alpha = 5\n",
    "# production coefficient of protein\n",
    "betta = avg_p/avg_m\n",
    "# degradation coefficient of mRNA\n",
    "gamma = alpha/avg_m\n",
    "# degradation coefficient of protein\n",
    "delta = 1 # unit value"
   ]
  },
  {
   "cell_type": "code",
   "execution_count": 7,
   "metadata": {},
   "outputs": [
    {
     "name": "stdout",
     "output_type": "stream",
     "text": [
      "5 2.4 1.0 1\n"
     ]
    }
   ],
   "source": [
    "print(alpha,betta,gamma,delta)"
   ]
  },
  {
   "cell_type": "code",
   "execution_count": 8,
   "metadata": {},
   "outputs": [
    {
     "data": {
      "text/plain": [
       "array([[1., 0., 0.],\n",
       "       [0., 1., 0.],\n",
       "       [0., 0., 1.]])"
      ]
     },
     "execution_count": 8,
     "metadata": {},
     "output_type": "execute_result"
    }
   ],
   "source": [
    "np.eye(3)"
   ]
  },
  {
   "cell_type": "code",
   "execution_count": 6,
   "metadata": {},
   "outputs": [],
   "source": [
    "# # Stochastic matrix\n",
    "# M = np.zeros((N,N))\n",
    "\n",
    "# I = np.eye()\n",
    "\n",
    "# for i in range(N) :\n",
    "#     for j in range(N) :\n",
    "#         # Diagonal comonent\n",
    "#         if i == j :\n",
    "#             M[i, j] = alpha + s[i,0]*betta + s[i,0]*gamma + s[i,1]*delta\n",
    "        \n",
    "#         # off-diagonal component\n",
    "\n",
    "#         # degradation of mRNA(m+1 -> m)\n",
    "#         elif  s[i,0] - s[j,0] == -1 :\n",
    "#             if abs(s[i,1] - s[j,1]) != 0 :\n",
    "#                 break\n",
    "#             M[i,j] = M[i,j] - s[j,0]*gamma\n",
    "#         # production of mRNA(m-1 =>m)\n",
    "#         elif s[i,0] + s[j,0] == 1 :\n",
    "#             if abs(s[i,1] - s[j,1]) != 0 :\n",
    "#                 break\n",
    "#             M[i,j] = M[i,j] - alpha\n",
    "#         # degradation of protein(p+1 -> p)\n",
    "#         elif  s[i,1] - s[j,1] == -1 :\n",
    "#             if abs(s[i,0] - s[j,0]) != 0 :\n",
    "#                 break\n",
    "#             M[i,j] = M[i,j] - s[j,1]*delta\n",
    "#         # degradation of protein(p-1 -> p)\n",
    "#         elif  s[i,1] - s[j,1] == 1 :\n",
    "#             if abs(s[i,0] - s[j,0]) != 0 :\n",
    "#                 break\n",
    "#             M[i,j] = M[i,j] - s[j,0]*betta\n",
    "\n"
   ]
  },
  {
   "cell_type": "code",
   "execution_count": 19,
   "metadata": {},
   "outputs": [],
   "source": [
    "# Stochastic matrix\n",
    "M = np.zeros((N,N))\n",
    "\n",
    "Im = np.eye(mN+1)\n",
    "Ip = np.eye(pN+1)\n",
    "\n",
    "for i in range(N) :\n",
    "    for j in range(N) :\n",
    "\n",
    "        M[i,j] = alpha*(Im[s[i,0],s[j,0]]*Ip[s[i,1],s[j,1]] - Im[s[i,0]-1,s[j,0]]*Ip[s[i,1],s[j,1]])\n",
    "        M[i,j] = M[i,j] + betta*s[j,0]*(Im[s[i,0],s[j,0]]*Ip[s[i,1],s[j,1]] - Im[s[i,0],s[j,0]]*Ip[s[i,1]-1,s[j,1]])\n",
    "        M[i,j] = M[i,j] + gamma*(s[i,0]*Im[s[i,0],s[j,0]]*Ip[s[i,1],s[j,1]] - s[j,0]*Im[s[i,0]+1,s[j,0]]*Ip[s[i,1],s[j,1]])\n",
    "        M[i,j] = M[i,j] + delta*(s[i,1]*Im[s[i,0],s[j,0]]*Ip[s[i,1],s[j,1]] - s[j,1]*Im[s[i,0],s[j,0]]*Ip[s[i,1]+1,s[j,1]])\n",
    "\n",
    "#normalization\n",
    "for i in range(N) :\n",
    "    M[i,i] = M[i,i] - np.sum(M[:,i])"
   ]
  },
  {
   "cell_type": "code",
   "execution_count": 20,
   "metadata": {},
   "outputs": [
    {
     "data": {
      "text/plain": [
       "array([[  5. ,  -1. ,   0. , ...,   0. ,   0. ,   0. ],\n",
       "       [  0. ,   6. ,  -2. , ...,   0. ,   0. ,   0. ],\n",
       "       [  0. ,   0. ,   7. , ...,   0. ,   0. ,   0. ],\n",
       "       ...,\n",
       "       [  0. ,   0. ,   0. , ...,  42.6,  -8. ,   0. ],\n",
       "       [  0. ,   0. ,   0. , ..., -21.6,  43.6,  -9. ],\n",
       "       [  0. ,   0. ,   0. , ...,   0. , -21.6,  44.6]])"
      ]
     },
     "execution_count": 20,
     "metadata": {},
     "output_type": "execute_result"
    }
   ],
   "source": [
    "M"
   ]
  },
  {
   "cell_type": "code",
   "execution_count": 21,
   "metadata": {},
   "outputs": [
    {
     "data": {
      "text/plain": [
       "158.0"
      ]
     },
     "execution_count": 21,
     "metadata": {},
     "output_type": "execute_result"
    }
   ],
   "source": [
    "np.sum(M)"
   ]
  },
  {
   "cell_type": "code",
   "execution_count": 22,
   "metadata": {},
   "outputs": [
    {
     "data": {
      "text/plain": [
       "array([ 0.00000000e+00,  0.00000000e+00,  0.00000000e+00,  0.00000000e+00,\n",
       "        0.00000000e+00,  0.00000000e+00,  0.00000000e+00,  0.00000000e+00,\n",
       "        0.00000000e+00,  0.00000000e+00,  0.00000000e+00,  0.00000000e+00,\n",
       "        0.00000000e+00,  0.00000000e+00,  0.00000000e+00,  0.00000000e+00,\n",
       "        0.00000000e+00,  0.00000000e+00, -1.77635684e-15,  2.40000000e+00,\n",
       "        8.88178420e-16,  8.88178420e-16,  8.88178420e-16,  8.88178420e-16,\n",
       "        8.88178420e-16,  8.88178420e-16,  8.88178420e-16,  8.88178420e-16,\n",
       "        8.88178420e-16,  4.80000000e+00,  0.00000000e+00,  0.00000000e+00,\n",
       "        0.00000000e+00,  0.00000000e+00,  0.00000000e+00,  0.00000000e+00,\n",
       "        0.00000000e+00,  0.00000000e+00,  0.00000000e+00,  7.20000000e+00,\n",
       "        1.77635684e-15,  1.77635684e-15,  1.77635684e-15,  1.77635684e-15,\n",
       "        1.77635684e-15,  1.77635684e-15,  1.77635684e-15,  1.77635684e-15,\n",
       "        1.77635684e-15,  9.60000000e+00,  0.00000000e+00,  0.00000000e+00,\n",
       "        0.00000000e+00,  0.00000000e+00,  0.00000000e+00,  0.00000000e+00,\n",
       "        0.00000000e+00,  0.00000000e+00,  0.00000000e+00,  1.20000000e+01,\n",
       "        0.00000000e+00,  0.00000000e+00,  0.00000000e+00,  0.00000000e+00,\n",
       "        0.00000000e+00,  0.00000000e+00,  0.00000000e+00,  0.00000000e+00,\n",
       "        0.00000000e+00,  1.44000000e+01,  0.00000000e+00,  0.00000000e+00,\n",
       "        0.00000000e+00,  0.00000000e+00, -3.55271368e-15, -3.55271368e-15,\n",
       "       -3.55271368e-15, -3.55271368e-15, -3.55271368e-15,  1.68000000e+01,\n",
       "        3.55271368e-15,  3.55271368e-15,  3.55271368e-15,  3.55271368e-15,\n",
       "        3.55271368e-15,  3.55271368e-15,  3.55271368e-15,  3.55271368e-15,\n",
       "        3.55271368e-15,  1.92000000e+01,  5.00000000e+00,  5.00000000e+00,\n",
       "        5.00000000e+00,  5.00000000e+00,  5.00000000e+00,  5.00000000e+00,\n",
       "        5.00000000e+00,  5.00000000e+00,  5.00000000e+00,  2.66000000e+01])"
      ]
     },
     "execution_count": 22,
     "metadata": {},
     "output_type": "execute_result"
    }
   ],
   "source": [
    "np.sum(M, axis = 0)"
   ]
  }
 ],
 "metadata": {
  "kernelspec": {
   "display_name": "base",
   "language": "python",
   "name": "python3"
  },
  "language_info": {
   "codemirror_mode": {
    "name": "ipython",
    "version": 3
   },
   "file_extension": ".py",
   "mimetype": "text/x-python",
   "name": "python",
   "nbconvert_exporter": "python",
   "pygments_lexer": "ipython3",
   "version": "3.9.13"
  },
  "orig_nbformat": 4
 },
 "nbformat": 4,
 "nbformat_minor": 2
}
