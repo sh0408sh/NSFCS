{
 "cells": [
  {
   "cell_type": "code",
   "execution_count": 5,
   "metadata": {},
   "outputs": [],
   "source": [
    "import numpy as np\n",
    "import itertools as it"
   ]
  },
  {
   "cell_type": "code",
   "execution_count": 6,
   "metadata": {},
   "outputs": [],
   "source": [
    "# num of states of mRNA\n",
    "mN = 10\n",
    "# num of states of protein\n",
    "pN = 10\n",
    "#num of states\n",
    "N = mN*pN"
   ]
  },
  {
   "cell_type": "code",
   "execution_count": 7,
   "metadata": {},
   "outputs": [],
   "source": [
    "# states for mRNA and protein\n",
    "s = []\n",
    "for i in range(mN) :\n",
    "    for j in range(pN) :\n",
    "        s.append(np.array([i,j]))\n",
    "\n",
    "s = np.array(s)\n"
   ]
  },
  {
   "cell_type": "code",
   "execution_count": 8,
   "metadata": {},
   "outputs": [],
   "source": [
    "# average of mRNA\n",
    "avg_m = 5\n",
    "# average of protein \n",
    "avg_p = 12"
   ]
  },
  {
   "cell_type": "code",
   "execution_count": 9,
   "metadata": {},
   "outputs": [],
   "source": [
    "# production coefficient of mRNA\n",
    "alpha = 5\n",
    "# production coefficient of protein\n",
    "betta = avg_p/avg_m\n",
    "# degradation coefficient of mRNA\n",
    "gamma = alpha/avg_m\n",
    "# degradation coefficient of protein\n",
    "delta = 1 # unit value"
   ]
  },
  {
   "cell_type": "code",
   "execution_count": 10,
   "metadata": {},
   "outputs": [
    {
     "name": "stdout",
     "output_type": "stream",
     "text": [
      "5 2.4 1.0 1\n"
     ]
    }
   ],
   "source": [
    "print(alpha,betta,gamma,delta)"
   ]
  },
  {
   "cell_type": "code",
   "execution_count": 11,
   "metadata": {},
   "outputs": [
    {
     "data": {
      "text/plain": [
       "array([[1., 0., 0.],\n",
       "       [0., 1., 0.],\n",
       "       [0., 0., 1.]])"
      ]
     },
     "execution_count": 11,
     "metadata": {},
     "output_type": "execute_result"
    }
   ],
   "source": [
    "np.eye(3)"
   ]
  },
  {
   "cell_type": "code",
   "execution_count": 12,
   "metadata": {},
   "outputs": [],
   "source": [
    "# # Stochastic matrix\n",
    "# M = np.zeros((N,N))\n",
    "\n",
    "# I = np.eye()\n",
    "\n",
    "# for i in range(N) :\n",
    "#     for j in range(N) :\n",
    "#         # Diagonal comonent\n",
    "#         if i == j :\n",
    "#             M[i, j] = alpha + s[i,0]*betta + s[i,0]*gamma + s[i,1]*delta\n",
    "        \n",
    "#         # off-diagonal component\n",
    "\n",
    "#         # degradation of mRNA(m+1 -> m)\n",
    "#         elif  s[i,0] - s[j,0] == -1 :\n",
    "#             if abs(s[i,1] - s[j,1]) != 0 :\n",
    "#                 break\n",
    "#             M[i,j] = M[i,j] - s[j,0]*gamma\n",
    "#         # production of mRNA(m-1 =>m)\n",
    "#         elif s[i,0] + s[j,0] == 1 :\n",
    "#             if abs(s[i,1] - s[j,1]) != 0 :\n",
    "#                 break\n",
    "#             M[i,j] = M[i,j] - alpha\n",
    "#         # degradation of protein(p+1 -> p)\n",
    "#         elif  s[i,1] - s[j,1] == -1 :\n",
    "#             if abs(s[i,0] - s[j,0]) != 0 :\n",
    "#                 break\n",
    "#             M[i,j] = M[i,j] - s[j,1]*delta\n",
    "#         # degradation of protein(p-1 -> p)\n",
    "#         elif  s[i,1] - s[j,1] == 1 :\n",
    "#             if abs(s[i,0] - s[j,0]) != 0 :\n",
    "#                 break\n",
    "#             M[i,j] = M[i,j] - s[j,0]*betta\n",
    "\n"
   ]
  },
  {
   "cell_type": "code",
   "execution_count": 13,
   "metadata": {},
   "outputs": [],
   "source": [
    "# Stochastic matrix\n",
    "M = np.zeros((N,N))\n",
    "\n",
    "Im = np.eye(mN+1)\n",
    "Ip = np.eye(pN+1)\n",
    "\n",
    "for i in range(N) :\n",
    "    for j in range(N) :\n",
    "\n",
    "        M[i,j] = alpha*(Im[s[i,0],s[j,0]]*Ip[s[i,1],s[j,1]] - Im[s[i,0]-1,s[j,0]]*Ip[s[i,1],s[j,1]])\n",
    "        M[i,j] = M[i,j] + betta*s[j,0]*(Im[s[i,0],s[j,0]]*Ip[s[i,1],s[j,1]] - Im[s[i,0],s[j,0]]*Ip[s[i,1]-1,s[j,1]])\n",
    "        M[i,j] = M[i,j] + gamma*(s[i,0]*Im[s[i,0],s[j,0]]*Ip[s[i,1],s[j,1]] - s[j,0]*Im[s[i,0]+1,s[j,0]]*Ip[s[i,1],s[j,1]])\n",
    "        M[i,j] = M[i,j] + delta*(s[i,1]*Im[s[i,0],s[j,0]]*Ip[s[i,1],s[j,1]] - s[j,1]*Im[s[i,0],s[j,0]]*Ip[s[i,1]+1,s[j,1]])\n",
    "\n",
    "#normalization\n",
    "for i in range(N) :\n",
    "    M[i,i] = M[i,i] - np.sum(M[:,i])"
   ]
  },
  {
   "cell_type": "code",
   "execution_count": 20,
   "metadata": {},
   "outputs": [
    {
     "data": {
      "text/plain": [
       "array([[  5. ,  -1. ,   0. , ...,   0. ,   0. ,   0. ],\n",
       "       [  0. ,   6. ,  -2. , ...,   0. ,   0. ,   0. ],\n",
       "       [  0. ,   0. ,   7. , ...,   0. ,   0. ,   0. ],\n",
       "       ...,\n",
       "       [  0. ,   0. ,   0. , ...,  42.6,  -8. ,   0. ],\n",
       "       [  0. ,   0. ,   0. , ..., -21.6,  43.6,  -9. ],\n",
       "       [  0. ,   0. ,   0. , ...,   0. , -21.6,  44.6]])"
      ]
     },
     "execution_count": 20,
     "metadata": {},
     "output_type": "execute_result"
    }
   ],
   "source": [
    "M"
   ]
  },
  {
   "cell_type": "code",
   "execution_count": 1,
   "metadata": {},
   "outputs": [
    {
     "name": "stdout",
     "output_type": "stream",
     "text": [
      "Requirement already satisfied: import_ipynb in c:\\users\\lg\\anaconda3\\lib\\site-packages (0.1.4)\n",
      "Requirement already satisfied: nbformat in c:\\users\\lg\\anaconda3\\lib\\site-packages (from import_ipynb) (5.5.0)\n",
      "Requirement already satisfied: IPython in c:\\users\\lg\\anaconda3\\lib\\site-packages (from import_ipynb) (7.31.1)\n",
      "Requirement already satisfied: decorator in c:\\users\\lg\\anaconda3\\lib\\site-packages (from IPython->import_ipynb) (5.1.1)\n",
      "Requirement already satisfied: setuptools>=18.5 in c:\\users\\lg\\anaconda3\\lib\\site-packages (from IPython->import_ipynb) (63.4.1)\n",
      "Requirement already satisfied: pickleshare in c:\\users\\lg\\anaconda3\\lib\\site-packages (from IPython->import_ipynb) (0.7.5)\n",
      "Requirement already satisfied: prompt-toolkit!=3.0.0,!=3.0.1,<3.1.0,>=2.0.0 in c:\\users\\lg\\anaconda3\\lib\\site-packages (from IPython->import_ipynb) (3.0.20)\n",
      "Requirement already satisfied: pygments in c:\\users\\lg\\anaconda3\\lib\\site-packages (from IPython->import_ipynb) (2.11.2)\n",
      "Requirement already satisfied: traitlets>=4.2 in c:\\users\\lg\\anaconda3\\lib\\site-packages (from IPython->import_ipynb) (5.1.1)\n",
      "Requirement already satisfied: matplotlib-inline in c:\\users\\lg\\anaconda3\\lib\\site-packages (from IPython->import_ipynb) (0.1.6)\n",
      "Requirement already satisfied: backcall in c:\\users\\lg\\anaconda3\\lib\\site-packages (from IPython->import_ipynb) (0.2.0)\n",
      "Requirement already satisfied: jedi>=0.16 in c:\\users\\lg\\anaconda3\\lib\\site-packages (from IPython->import_ipynb) (0.18.1)\n",
      "Requirement already satisfied: colorama in c:\\users\\lg\\anaconda3\\lib\\site-packages (from IPython->import_ipynb) (0.4.5)\n",
      "Requirement already satisfied: fastjsonschema in c:\\users\\lg\\anaconda3\\lib\\site-packages (from nbformat->import_ipynb) (2.16.2)\n",
      "Requirement already satisfied: jupyter_core in c:\\users\\lg\\anaconda3\\lib\\site-packages (from nbformat->import_ipynb) (4.11.1)\n",
      "Requirement already satisfied: jsonschema>=2.6 in c:\\users\\lg\\anaconda3\\lib\\site-packages (from nbformat->import_ipynb) (4.16.0)\n",
      "Requirement already satisfied: parso<0.9.0,>=0.8.0 in c:\\users\\lg\\anaconda3\\lib\\site-packages (from jedi>=0.16->IPython->import_ipynb) (0.8.3)\n",
      "Requirement already satisfied: attrs>=17.4.0 in c:\\users\\lg\\anaconda3\\lib\\site-packages (from jsonschema>=2.6->nbformat->import_ipynb) (21.4.0)\n",
      "Requirement already satisfied: pyrsistent!=0.17.0,!=0.17.1,!=0.17.2,>=0.14.0 in c:\\users\\lg\\anaconda3\\lib\\site-packages (from jsonschema>=2.6->nbformat->import_ipynb) (0.18.0)\n",
      "Requirement already satisfied: wcwidth in c:\\users\\lg\\anaconda3\\lib\\site-packages (from prompt-toolkit!=3.0.0,!=3.0.1,<3.1.0,>=2.0.0->IPython->import_ipynb) (0.2.5)\n",
      "Requirement already satisfied: pywin32>=1.0 in c:\\users\\lg\\anaconda3\\lib\\site-packages (from jupyter_core->nbformat->import_ipynb) (302)\n",
      "Note: you may need to restart the kernel to use updated packages.\n"
     ]
    }
   ],
   "source": [
    "pip install import_ipynb"
   ]
  },
  {
   "cell_type": "code",
   "execution_count": 3,
   "metadata": {},
   "outputs": [
    {
     "name": "stdout",
     "output_type": "stream",
     "text": [
      "importing Jupyter notebook from arnoldi.ipynb\n"
     ]
    }
   ],
   "source": [
    "import import_ipynb\n",
    "import arnoldi"
   ]
  },
  {
   "cell_type": "code",
   "execution_count": 14,
   "metadata": {},
   "outputs": [
    {
     "data": {
      "text/plain": [
       "(array([ 6.78459210e+01+0.j        ,  6.03455702e+01+0.j        ,\n",
       "         5.93584712e+01+0.j        ,  5.44266924e+01+0.j        ,\n",
       "         5.27291862e+01+0.24678261j,  5.27291862e+01-0.24678261j,\n",
       "         4.92098366e+01+0.j        ,  4.83507849e+01+0.j        ,\n",
       "         4.65060928e+01+0.67144806j,  4.65060928e+01-0.67144806j,\n",
       "         4.44826214e+01+0.j        ,  4.36213842e+01+0.j        ,\n",
       "         4.18287127e+01+0.j        ,  4.12718969e+01+0.88763961j,\n",
       "         4.12718969e+01-0.88763961j,  4.01019088e+01+0.j        ,\n",
       "         3.85152235e+01+0.j        ,  3.72830105e+01+0.20264841j,\n",
       "         3.72830105e+01-0.20264841j,  3.64356039e+01+1.07968549j,\n",
       "         3.64356039e+01-1.07968549j,  3.59731976e+01+0.j        ,\n",
       "         3.30099645e+01+0.25011046j,  3.30099645e+01-0.25011046j,\n",
       "         3.28545442e+01+0.71390155j,  3.28545442e+01-0.71390155j,\n",
       "         3.20173128e+01+1.24702333j,  3.20173128e+01-1.24702333j,\n",
       "         3.20080513e+01+0.j        ,  2.89746669e+01+0.j        ,\n",
       "         2.82183577e+01+1.18515195j,  2.82183577e+01-1.18515195j,\n",
       "         2.79969963e+01+1.39935371j,  2.79969963e+01-1.39935371j,\n",
       "         2.82099762e+01+0.37544515j,  2.82099762e+01-0.37544515j,\n",
       "         2.80640445e+01+0.j        ,  2.54374365e+01+0.j        ,\n",
       "         2.41680556e+01+1.64198816j,  2.41680556e+01-1.64198816j,\n",
       "         2.40737978e+01+1.07220186j,  2.40737978e+01-1.07220186j,\n",
       "         2.39989868e+01+0.26852286j,  2.39989868e+01-0.26852286j,\n",
       "         2.23771712e+01+0.j        ,  2.19800512e+01+0.j        ,\n",
       "         2.06029294e+01+1.71809634j,  2.06029294e+01-1.71809634j,\n",
       "         2.12134475e+01+0.j        ,  2.04653406e+01+1.04524058j,\n",
       "         2.04653406e+01-1.04524058j,  2.05139486e+01+0.20208591j,\n",
       "         2.05139486e+01-0.20208591j,  1.87370483e+01+0.j        ,\n",
       "         1.73412394e+01+1.74111524j,  1.73412394e+01-1.74111524j,\n",
       "         1.71590422e+01+1.03724001j,  1.71590422e+01-1.03724001j,\n",
       "         1.73200914e+01+0.31009083j,  1.73200914e+01-0.31009083j,\n",
       "         1.69842656e+01+0.j        ,  1.59653438e+01+0.j        ,\n",
       "         1.43694177e+01+1.72513307j,  1.43694177e+01-1.72513307j,\n",
       "         1.40941942e+01+0.97607499j,  1.40941942e+01-0.97607499j,\n",
       "         1.39503306e+01+0.11247235j,  1.39503306e+01-0.11247235j,\n",
       "         1.37386827e+01+0.j        ,  1.29917283e+01+0.j        ,\n",
       "         1.16851615e+01+1.67521934j,  1.16851615e+01-1.67521934j,\n",
       "         1.13579526e+01+0.88843876j,  1.13579526e+01-0.88843876j,\n",
       "         1.18010415e+01+0.j        ,  1.14607306e+01+0.j        ,\n",
       "         1.11692250e+01+0.j        ,  1.07485115e+01+0.j        ,\n",
       "         9.30070341e+00+1.56658021j,  9.30070341e+00-1.56658021j,\n",
       "         9.03671840e+00+0.7636509j ,  9.03671840e+00-0.7636509j ,\n",
       "         8.82304890e+00+0.j        ,  8.94141370e+00+0.j        ,\n",
       "         7.18971531e+00+1.33933726j,  7.18971531e+00-1.33933726j,\n",
       "         7.03518758e+00+0.4448383j ,  7.03518758e+00-0.4448383j ,\n",
       "         6.49224494e+00+0.j        ,  5.27623873e+00+0.98269197j,\n",
       "         5.27623873e+00-0.98269197j,  5.20751181e+00+0.j        ,\n",
       "         4.43195698e+00+0.j        ,  3.51229927e+00+0.52884243j,\n",
       "         3.51229927e+00-0.52884243j,  2.64151132e+00+0.j        ,\n",
       "         1.87595389e+00+0.j        ,  1.15651085e+00+0.j        ,\n",
       "        -9.67568074e-05+0.j        ,  2.50592638e-15+0.j        ]),\n",
       " array([[ 9.99999982e-01+0.j,  7.63478380e-01+0.j, -4.15221221e-01+0.j,\n",
       "         ...,  1.52695696e-03+0.j, -9.00909831e-02+0.j,\n",
       "         -3.31505020e-02+0.j],\n",
       "        [ 1.87157409e-04+0.j,  6.22964943e-01+0.j, -5.20297145e-01+0.j,\n",
       "         ...,  1.42615542e-03+0.j,  6.15170742e-02+0.j,\n",
       "         -9.16690590e-03+0.j],\n",
       "        [ 7.14662763e-06+0.j,  1.70337095e-01+0.j, -7.46232078e-01+0.j,\n",
       "         ..., -2.26247420e-03+0.j, -1.18623235e-01+0.j,\n",
       "         -5.01523632e-02+0.j],\n",
       "        ...,\n",
       "        [ 0.00000000e+00+0.j,  0.00000000e+00+0.j,  0.00000000e+00+0.j,\n",
       "         ...,  3.64324933e-01+0.j, -8.63968856e-03+0.j,\n",
       "          2.45246173e-02+0.j],\n",
       "        [ 0.00000000e+00+0.j,  0.00000000e+00+0.j,  0.00000000e+00+0.j,\n",
       "         ...,  0.00000000e+00+0.j,  7.46345591e-01+0.j,\n",
       "         -2.40115416e-01+0.j],\n",
       "        [ 0.00000000e+00+0.j,  0.00000000e+00+0.j,  0.00000000e+00+0.j,\n",
       "         ...,  0.00000000e+00+0.j,  0.00000000e+00+0.j,\n",
       "          6.65088975e-01+0.j]]))"
      ]
     },
     "execution_count": 14,
     "metadata": {},
     "output_type": "execute_result"
    }
   ],
   "source": [
    "arnoldi.QR_algorithm(M,100)"
   ]
  },
  {
   "cell_type": "code",
   "execution_count": 15,
   "metadata": {},
   "outputs": [
    {
     "data": {
      "text/plain": [
       "(array([ 6.78459210e+01+0.j        ,  6.03455702e+01+0.j        ,\n",
       "         5.93584712e+01+0.j        ,  5.44266924e+01+0.j        ,\n",
       "         5.27291862e+01+0.24678261j,  5.27291862e+01-0.24678261j,\n",
       "         4.92098366e+01+0.j        ,  4.83507849e+01+0.j        ,\n",
       "         4.65060928e+01+0.67144806j,  4.65060928e+01-0.67144806j,\n",
       "         4.44826214e+01+0.j        ,  4.36213842e+01+0.j        ,\n",
       "         4.18287127e+01+0.j        ,  4.12718969e+01+0.88763961j,\n",
       "         4.12718969e+01-0.88763961j,  4.01019088e+01+0.j        ,\n",
       "         3.85152235e+01+0.j        ,  3.72830105e+01+0.20264841j,\n",
       "         3.72830105e+01-0.20264841j,  3.64356039e+01+1.07968549j,\n",
       "         3.64356039e+01-1.07968549j,  3.59731976e+01+0.j        ,\n",
       "         3.30099645e+01+0.25011046j,  3.30099645e+01-0.25011046j,\n",
       "         3.28545442e+01+0.71390155j,  3.28545442e+01-0.71390155j,\n",
       "         3.20173128e+01+1.24702333j,  3.20173128e+01-1.24702333j,\n",
       "         3.20080513e+01+0.j        ,  2.89746669e+01+0.j        ,\n",
       "         2.79969963e+01+1.39935371j,  2.79969963e+01-1.39935371j,\n",
       "         2.82183577e+01+1.18515195j,  2.82183577e+01-1.18515195j,\n",
       "         2.82099762e+01+0.37544515j,  2.82099762e+01-0.37544515j,\n",
       "         2.80640445e+01+0.j        ,  2.54374365e+01+0.j        ,\n",
       "         2.41680556e+01+1.64198816j,  2.41680556e+01-1.64198816j,\n",
       "         2.40737978e+01+1.07220186j,  2.40737978e+01-1.07220186j,\n",
       "         2.39989868e+01+0.26852286j,  2.39989868e+01-0.26852286j,\n",
       "         2.23771712e+01+0.j        ,  2.19800512e+01+0.j        ,\n",
       "         2.06029294e+01+1.71809634j,  2.06029294e+01-1.71809634j,\n",
       "         2.12134475e+01+0.j        ,  2.04653406e+01+1.04524058j,\n",
       "         2.04653406e+01-1.04524058j,  2.05139486e+01+0.20208591j,\n",
       "         2.05139486e+01-0.20208591j,  1.87370483e+01+0.j        ,\n",
       "         1.73412394e+01+1.74111524j,  1.73412394e+01-1.74111524j,\n",
       "         1.71590422e+01+1.03724001j,  1.71590422e+01-1.03724001j,\n",
       "         1.73200914e+01+0.31009083j,  1.73200914e+01-0.31009083j,\n",
       "         1.69842656e+01+0.j        ,  1.59653438e+01+0.j        ,\n",
       "         1.43694177e+01+1.72513307j,  1.43694177e+01-1.72513307j,\n",
       "         1.40941942e+01+0.97607499j,  1.40941942e+01-0.97607499j,\n",
       "         1.39503306e+01+0.11247235j,  1.39503306e+01-0.11247235j,\n",
       "         1.37386827e+01+0.j        ,  1.29917283e+01+0.j        ,\n",
       "         1.16851615e+01+1.67521934j,  1.16851615e+01-1.67521934j,\n",
       "         1.13579526e+01+0.88843876j,  1.13579526e+01-0.88843876j,\n",
       "         1.18010415e+01+0.j        ,  1.14607306e+01+0.j        ,\n",
       "         1.11692250e+01+0.j        ,  1.07485115e+01+0.j        ,\n",
       "         9.30070341e+00+1.56658021j,  9.30070341e+00-1.56658021j,\n",
       "         9.03671840e+00+0.7636509j ,  9.03671840e+00-0.7636509j ,\n",
       "         8.94141370e+00+0.j        ,  8.82304890e+00+0.j        ,\n",
       "         7.18971531e+00+1.33933726j,  7.18971531e+00-1.33933726j,\n",
       "         7.03518758e+00+0.4448383j ,  7.03518758e+00-0.4448383j ,\n",
       "         6.49224494e+00+0.j        ,  5.27623873e+00+0.98269197j,\n",
       "         5.27623873e+00-0.98269197j,  5.20751181e+00+0.j        ,\n",
       "         4.43195698e+00+0.j        ,  3.51229927e+00+0.52884243j,\n",
       "         3.51229927e+00-0.52884243j,  2.64151132e+00+0.j        ,\n",
       "         1.87595389e+00+0.j        ,  1.15651085e+00+0.j        ,\n",
       "        -9.67568074e-05+0.j        ,  2.50592638e-15+0.j        ]),\n",
       " array([[-1.00000000e+00+0.j,  7.63596175e-01+0.j, -4.15323923e-01+0.j,\n",
       "         ...,  1.52720767e-03+0.j, -9.00803157e-02+0.j,\n",
       "         -3.31525749e-02+0.j],\n",
       "        [-1.82781613e-09+0.j,  6.45136542e-01+0.j, -6.73841771e-01+0.j,\n",
       "         ...,  8.83945966e-04+0.j,  3.34774626e-02+0.j,\n",
       "         -2.01003234e-02+0.j],\n",
       "        [-9.27086800e-12+0.j,  2.68276510e-02+0.j, -6.11100079e-01+0.j,\n",
       "         ..., -2.52426422e-03+0.j, -1.29308615e-01+0.j,\n",
       "         -4.66209584e-02+0.j],\n",
       "        ...,\n",
       "        [ 0.00000000e+00+0.j,  0.00000000e+00+0.j,  0.00000000e+00+0.j,\n",
       "         ...,  3.64324933e-01+0.j, -8.63968856e-03+0.j,\n",
       "          2.45246173e-02+0.j],\n",
       "        [ 0.00000000e+00+0.j,  0.00000000e+00+0.j,  0.00000000e+00+0.j,\n",
       "         ...,  0.00000000e+00+0.j,  7.46345591e-01+0.j,\n",
       "         -2.40115416e-01+0.j],\n",
       "        [ 0.00000000e+00+0.j,  0.00000000e+00+0.j,  0.00000000e+00+0.j,\n",
       "         ...,  0.00000000e+00+0.j,  0.00000000e+00+0.j,\n",
       "          6.65088975e-01+0.j]]))"
      ]
     },
     "execution_count": 15,
     "metadata": {},
     "output_type": "execute_result"
    }
   ],
   "source": [
    "arnoldi.QR_algorithm(M,200)"
   ]
  }
 ],
 "metadata": {
  "kernelspec": {
   "display_name": "base",
   "language": "python",
   "name": "python3"
  },
  "language_info": {
   "codemirror_mode": {
    "name": "ipython",
    "version": 3
   },
   "file_extension": ".py",
   "mimetype": "text/x-python",
   "name": "python",
   "nbconvert_exporter": "python",
   "pygments_lexer": "ipython3",
   "version": "3.9.13"
  },
  "orig_nbformat": 4
 },
 "nbformat": 4,
 "nbformat_minor": 2
}
