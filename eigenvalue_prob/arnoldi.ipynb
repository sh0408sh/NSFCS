{
 "cells": [
  {
   "cell_type": "code",
   "execution_count": 1,
   "metadata": {},
   "outputs": [],
   "source": [
    "import numpy as np"
   ]
  },
  {
   "cell_type": "code",
   "execution_count": 2,
   "metadata": {},
   "outputs": [],
   "source": [
    "def arnoldi_iteration(A, b, n: int):\n",
    "    \"\"\"Compute a basis of the (n + 1)-Krylov subspace of the matrix A.\n",
    "\n",
    "    This is the space spanned by the vectors {b, Ab, ..., A^n b}.\n",
    "\n",
    "    Parameters\n",
    "    ----------\n",
    "    A : array_like\n",
    "        An m × m array.\n",
    "    b : array_like\n",
    "        Initial vector (length m).\n",
    "    n : int\n",
    "        One less than the dimension of the Krylov subspace, or equivalently the *degree* of the Krylov space. Must be >= 1.\n",
    "    \n",
    "    Returns\n",
    "    -------\n",
    "    Q : numpy.array\n",
    "        An m x (n + 1) array, where the columns are an orthonormal basis of the Krylov subspace.\n",
    "    h : numpy.array\n",
    "        An (n + 1) x n array. A on basis Q. It is upper Hessenberg.\n",
    "    \"\"\"\n",
    "    eps = 1e-12\n",
    "    h = np.zeros((n + 1, n))\n",
    "    Q = np.zeros((A.shape[0], n + 1))\n",
    "    # Normalize the input vector\n",
    "    Q[:, 0] = b / np.linalg.norm(b, 2)  # Use it as the first Krylov vector\n",
    "    for k in range(1, n + 1):\n",
    "        v = np.dot(A, Q[:, k - 1])  # Generate a new candidate vector\n",
    "        for j in range(k):  # Subtract the projections on previous vectors\n",
    "            h[j, k - 1] = np.dot(Q[:, j].conj(), v)\n",
    "            v = v - h[j, k - 1] * Q[:, j]\n",
    "        h[k, k - 1] = np.linalg.norm(v, 2)\n",
    "        if h[k, k - 1] > eps:  # Add the produced vector to the list, unless\n",
    "            Q[:, k] = v / h[k, k - 1]\n",
    "        else:  # If that happens, stop iterating.\n",
    "            return Q, h\n",
    "    return Q, h"
   ]
  },
  {
   "cell_type": "code",
   "execution_count": null,
   "metadata": {},
   "outputs": [],
   "source": [
    "\n",
    "def hessenberg_matrix(A) :\n",
    "    b = A[:,0]\n",
    "    n = np.shape(A)[0]\n",
    "    Q, h = arnoldi_iteration(A, b, n)\n",
    "    hnn = np.delete(h, -1, 0)\n",
    "    return hnn"
   ]
  },
  {
   "cell_type": "code",
   "execution_count": null,
   "metadata": {},
   "outputs": [],
   "source": [
    "# QR algorithm\n",
    "\n",
    "def QR_algorithm(A, m) :\n",
    "    \"\"\"\n",
    "    A : matrix\n",
    "    n : # of iteration for arnoldi iteration\n",
    "    m : # of iteration for QR algorithm\n",
    "    \n",
    "    \"\"\"\n",
    "\n",
    "    hnn = hessenberg_matrix(A)\n",
    "    for i in range(m) :\n",
    "        q, r = np.linalg.qr(hnn)\n",
    "        hnn = np.dot(r,q)\n",
    "    \n",
    "    eigen_value, eigen_vectors = np.linalg.eig(hnn)\n",
    "\n",
    "    return eigen_value, eigen_vectors\n",
    "    \n",
    "    \n",
    "\n",
    "        \n"
   ]
  },
  {
   "cell_type": "code",
   "execution_count": 4,
   "metadata": {},
   "outputs": [],
   "source": [
    "# construct matrix\n",
    "A = np.arange(36).reshape((6,6))"
   ]
  },
  {
   "cell_type": "code",
   "execution_count": 5,
   "metadata": {},
   "outputs": [
    {
     "data": {
      "text/plain": [
       "array([[ 0,  1,  2,  3,  4,  5],\n",
       "       [ 6,  7,  8,  9, 10, 11],\n",
       "       [12, 13, 14, 15, 16, 17],\n",
       "       [18, 19, 20, 21, 22, 23],\n",
       "       [24, 25, 26, 27, 28, 29],\n",
       "       [30, 31, 32, 33, 34, 35]])"
      ]
     },
     "execution_count": 5,
     "metadata": {},
     "output_type": "execute_result"
    }
   ],
   "source": [
    "A"
   ]
  },
  {
   "cell_type": "code",
   "execution_count": 6,
   "metadata": {},
   "outputs": [],
   "source": [
    "b = np.array([1,1,1,1,1,1])"
   ]
  },
  {
   "cell_type": "code",
   "execution_count": 12,
   "metadata": {},
   "outputs": [],
   "source": [
    "Q, h = arnoldi_iteration(A, b, 6)"
   ]
  },
  {
   "cell_type": "code",
   "execution_count": 13,
   "metadata": {},
   "outputs": [
    {
     "data": {
      "text/plain": [
       "(7, 6)"
      ]
     },
     "execution_count": 13,
     "metadata": {},
     "output_type": "execute_result"
    }
   ],
   "source": [
    "h.shape"
   ]
  },
  {
   "cell_type": "code",
   "execution_count": 16,
   "metadata": {},
   "outputs": [],
   "source": [
    "hnn = np.delete(h,6,0)"
   ]
  },
  {
   "cell_type": "code",
   "execution_count": 19,
   "metadata": {},
   "outputs": [],
   "source": [
    "q, r = np.linalg.qr(hnn)"
   ]
  },
  {
   "cell_type": "code",
   "execution_count": 20,
   "metadata": {},
   "outputs": [
    {
     "data": {
      "text/plain": [
       "array([[ 1.09468085e+02, -5.38509966e+01,  3.95014996e-14,\n",
       "         0.00000000e+00,  0.00000000e+00,  0.00000000e+00],\n",
       "       [-2.61624275e+00, -4.46808511e+00,  3.27748924e-15,\n",
       "         0.00000000e+00,  0.00000000e+00,  0.00000000e+00],\n",
       "       [-0.00000000e+00,  0.00000000e+00,  0.00000000e+00,\n",
       "         0.00000000e+00,  0.00000000e+00,  0.00000000e+00],\n",
       "       [-0.00000000e+00,  0.00000000e+00,  0.00000000e+00,\n",
       "         0.00000000e+00,  0.00000000e+00,  0.00000000e+00],\n",
       "       [-0.00000000e+00,  0.00000000e+00,  0.00000000e+00,\n",
       "         0.00000000e+00,  0.00000000e+00,  0.00000000e+00],\n",
       "       [-0.00000000e+00,  0.00000000e+00,  0.00000000e+00,\n",
       "         0.00000000e+00,  0.00000000e+00,  0.00000000e+00]])"
      ]
     },
     "execution_count": 20,
     "metadata": {},
     "output_type": "execute_result"
    }
   ],
   "source": [
    "np.dot(r,q)"
   ]
  },
  {
   "cell_type": "code",
   "execution_count": 22,
   "metadata": {},
   "outputs": [],
   "source": [
    "#QR method\n",
    "for i in range(20) :\n",
    "    q, r = np.linalg.qr(hnn)\n",
    "    hnn = np.dot(r,q)\n"
   ]
  },
  {
   "cell_type": "code",
   "execution_count": 23,
   "metadata": {},
   "outputs": [
    {
     "data": {
      "text/plain": [
       "array([[ 1.10691494e+02,  5.12347538e+01, -3.94168695e-14,\n",
       "         0.00000000e+00,  0.00000000e+00,  0.00000000e+00],\n",
       "       [-8.66486405e-25, -5.69149422e+00,  4.17382361e-15,\n",
       "         0.00000000e+00,  0.00000000e+00,  0.00000000e+00],\n",
       "       [ 0.00000000e+00,  0.00000000e+00,  0.00000000e+00,\n",
       "         0.00000000e+00,  0.00000000e+00,  0.00000000e+00],\n",
       "       [ 0.00000000e+00,  0.00000000e+00,  0.00000000e+00,\n",
       "         0.00000000e+00,  0.00000000e+00,  0.00000000e+00],\n",
       "       [ 0.00000000e+00,  0.00000000e+00,  0.00000000e+00,\n",
       "         0.00000000e+00,  0.00000000e+00,  0.00000000e+00],\n",
       "       [ 0.00000000e+00,  0.00000000e+00,  0.00000000e+00,\n",
       "         0.00000000e+00,  0.00000000e+00,  0.00000000e+00]])"
      ]
     },
     "execution_count": 23,
     "metadata": {},
     "output_type": "execute_result"
    }
   ],
   "source": [
    "hnn"
   ]
  },
  {
   "cell_type": "code",
   "execution_count": 24,
   "metadata": {},
   "outputs": [
    {
     "data": {
      "text/plain": [
       "(array([110.69149422,  -5.69149422,   0.        ,   0.        ,\n",
       "          0.        ,   0.        ]),\n",
       " array([[ 1.00000000e+00, -4.02911482e-01,  1.66604129e-17,\n",
       "          0.00000000e+00,  0.00000000e+00,  0.00000000e+00],\n",
       "        [ 0.00000000e+00,  9.15238951e-01,  7.33344082e-16,\n",
       "          0.00000000e+00,  0.00000000e+00,  0.00000000e+00],\n",
       "        [ 0.00000000e+00,  0.00000000e+00,  1.00000000e+00,\n",
       "          0.00000000e+00,  0.00000000e+00,  0.00000000e+00],\n",
       "        [ 0.00000000e+00,  0.00000000e+00,  0.00000000e+00,\n",
       "          1.00000000e+00,  0.00000000e+00,  0.00000000e+00],\n",
       "        [ 0.00000000e+00,  0.00000000e+00,  0.00000000e+00,\n",
       "          0.00000000e+00,  1.00000000e+00,  0.00000000e+00],\n",
       "        [ 0.00000000e+00,  0.00000000e+00,  0.00000000e+00,\n",
       "          0.00000000e+00,  0.00000000e+00,  1.00000000e+00]]))"
      ]
     },
     "execution_count": 24,
     "metadata": {},
     "output_type": "execute_result"
    }
   ],
   "source": [
    "np.linalg.eig(hnn)"
   ]
  }
 ],
 "metadata": {
  "kernelspec": {
   "display_name": "base",
   "language": "python",
   "name": "python3"
  },
  "language_info": {
   "codemirror_mode": {
    "name": "ipython",
    "version": 3
   },
   "file_extension": ".py",
   "mimetype": "text/x-python",
   "name": "python",
   "nbconvert_exporter": "python",
   "pygments_lexer": "ipython3",
   "version": "3.9.13"
  },
  "orig_nbformat": 4
 },
 "nbformat": 4,
 "nbformat_minor": 2
}
