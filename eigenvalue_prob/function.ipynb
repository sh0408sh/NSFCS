{
 "cells": [
  {
   "cell_type": "code",
   "execution_count": 10,
   "metadata": {},
   "outputs": [],
   "source": [
    "import numpy as np\n",
    "import itertools as it"
   ]
  },
  {
   "cell_type": "code",
   "execution_count": 11,
   "metadata": {},
   "outputs": [],
   "source": [
    "#pip install import_ipynb"
   ]
  },
  {
   "cell_type": "code",
   "execution_count": 12,
   "metadata": {},
   "outputs": [],
   "source": [
    "import import_ipynb\n",
    "import arnoldi"
   ]
  },
  {
   "cell_type": "code",
   "execution_count": 13,
   "metadata": {},
   "outputs": [],
   "source": [
    "from numpy.linalg import inv"
   ]
  },
  {
   "cell_type": "code",
   "execution_count": 14,
   "metadata": {},
   "outputs": [],
   "source": [
    "import matplotlib.pyplot as plt"
   ]
  },
  {
   "cell_type": "code",
   "execution_count": 15,
   "metadata": {},
   "outputs": [],
   "source": [
    "#kronecker-delta function\n",
    "\n",
    "def k_delta(n,m) :\n",
    "    if n == m :\n",
    "        return 1\n",
    "    else :\n",
    "        return 0"
   ]
  },
  {
   "cell_type": "code",
   "execution_count": 16,
   "metadata": {},
   "outputs": [],
   "source": [
    "# define states \n",
    "def state(mN, pN) : # num of states of mRNA, num of states of protein\n",
    "\n",
    "    # states for mRNA and protein\n",
    "    s = []\n",
    "    for i in range(mN) :\n",
    "        for j in range(pN) :\n",
    "            s.append(np.array([i,j]))\n",
    "    s = np.array(s)\n",
    "\n",
    "    return s"
   ]
  },
  {
   "cell_type": "code",
   "execution_count": 17,
   "metadata": {},
   "outputs": [],
   "source": [
    "# stochastic matrix\n",
    "def stochastic_matrix(mN, pN , state, avg_m, avg_p, alpha =5, delta = 1) :\n",
    "    \n",
    "    # production coefficient of mRNA\n",
    "    alpha = alpha\n",
    "    # production coefficient of protein\n",
    "    betta = avg_p/avg_m\n",
    "    # degradation coefficient of mRNA\n",
    "    gamma = alpha/avg_m\n",
    "    # degradation coefficient of protein\n",
    "    delta = delta # unit value\n",
    "\n",
    "    N = mN*pN\n",
    "\n",
    "    M = np.zeros((N,N))\n",
    "\n",
    "    Im = np.eye(mN+1)\n",
    "    Ip = np.eye(pN+1)\n",
    "\n",
    "    # state\n",
    "    s = state\n",
    "\n",
    "    for i in range(N) :\n",
    "        for j in range(N) :\n",
    "        \n",
    "            M[i,j] = alpha*(Im[s[i,0],s[j,0]]*Ip[s[i,1],s[j,1]] - Im[s[i,0]-1,s[j,0]]*Ip[s[i,1],s[j,1]])\n",
    "            M[i,j] = M[i,j] + betta*s[j,0]*(Im[s[i,0],s[j,0]]*Ip[s[i,1],s[j,1]] - Im[s[i,0],s[j,0]]*Ip[s[i,1]-1,s[j,1]])\n",
    "            M[i,j] = M[i,j] + gamma*(s[i,0]*Im[s[i,0],s[j,0]]*Ip[s[i,1],s[j,1]] - s[j,0]*Im[s[i,0]+1,s[j,0]]*Ip[s[i,1],s[j,1]])\n",
    "            M[i,j] = M[i,j] + delta*(s[i,1]*Im[s[i,0],s[j,0]]*Ip[s[i,1],s[j,1]] - s[j,1]*Im[s[i,0],s[j,0]]*Ip[s[i,1]+1,s[j,1]])\n",
    "\n",
    "    #normalization\n",
    "    for i in range(N) :\n",
    "        M[i,i] = 0\n",
    "        M[i,i] = -np.sum(M[:,i])\n",
    "\n",
    "    return M\n",
    "    "
   ]
  },
  {
   "cell_type": "code",
   "execution_count": 18,
   "metadata": {},
   "outputs": [],
   "source": [
    "def inv_matrix(M) :\n",
    "    try :\n",
    "        return inv(M)\n",
    "    \n",
    "    except :\n",
    "        print(f'{M} is singular.')\n",
    "        return M"
   ]
  },
  {
   "cell_type": "code",
   "execution_count": 19,
   "metadata": {},
   "outputs": [],
   "source": [
    "# find state at t\n",
    "def state_t(state_i, t , stochastic_M) :\n",
    "\n",
    "    N = len(state_i)\n",
    "\n",
    "\n",
    "    # find smallest eigenvalue \n",
    "    inv_M = inv_matrix(stochastic_M)\n",
    "    e_val, e_vec = arnoldi.QR_algorithm(inv_M,100)\n",
    "    e_val = 1/e_val #eigenvalue of original matrix\n",
    "\n",
    "    # transit to eigenvector space coordinate\n",
    "    state_ei = inv(e_vec).dot(state_i)\n",
    "\n",
    "    # final state\n",
    "    state_f = 0\n",
    "    for i in range(N) :\n",
    "        state_f += state_ei[i]*e_vec[i]*np.exp(-e_val[i]*t)\n",
    "\n",
    "    return state_f\n",
    "\n"
   ]
  },
  {
   "cell_type": "code",
   "execution_count": 20,
   "metadata": {},
   "outputs": [],
   "source": [
    "# plot for mRNA, protein\n",
    "def solution(state_f, mN, pN) :\n",
    "    sol = np.zeros((mN, pN))\n",
    "    for i in range(mN) :\n",
    "        for j in range(pN) :\n",
    "            sol[i,j] = state_f[mN*i+j]/np.sum(np.abs(state_f))\n",
    "\n",
    "    return sol\n",
    "    "
   ]
  }
 ],
 "metadata": {
  "kernelspec": {
   "display_name": "base",
   "language": "python",
   "name": "python3"
  },
  "language_info": {
   "codemirror_mode": {
    "name": "ipython",
    "version": 3
   },
   "file_extension": ".py",
   "mimetype": "text/x-python",
   "name": "python",
   "nbconvert_exporter": "python",
   "pygments_lexer": "ipython3",
   "version": "3.9.13"
  },
  "orig_nbformat": 4
 },
 "nbformat": 4,
 "nbformat_minor": 2
}
