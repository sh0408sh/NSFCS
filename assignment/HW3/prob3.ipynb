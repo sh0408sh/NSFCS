{
 "cells": [
  {
   "cell_type": "markdown",
   "id": "b0a65031",
   "metadata": {},
   "source": [
    "Write a Python code to generate the scale-free networks of\n",
    "size N and degree exponent gamma"
   ]
  },
  {
   "cell_type": "code",
   "execution_count": 1,
   "id": "d0d89b56",
   "metadata": {},
   "outputs": [],
   "source": [
    "import matplotlib.pyplot as plt\n",
    "import networkx as nx\n",
    "import numpy as np\n",
    "import random "
   ]
  },
  {
   "cell_type": "markdown",
   "id": "4d90b259",
   "metadata": {},
   "source": [
    "(a)"
   ]
  },
  {
   "cell_type": "code",
   "execution_count": 2,
   "id": "333d09ba",
   "metadata": {},
   "outputs": [],
   "source": [
    "gamma = 2.2"
   ]
  },
  {
   "cell_type": "code",
   "execution_count": 3,
   "id": "56a56de8",
   "metadata": {},
   "outputs": [],
   "source": [
    "N1 = 10**3\n",
    "N2 = 2*10**3\n",
    "N3 = 5*10**3\n",
    "N4 = 10**4\n",
    "N5 = 2*10**4\n",
    "N6 = 5*10**4\n",
    "N7 = 10**5"
   ]
  },
  {
   "cell_type": "code",
   "execution_count": 4,
   "id": "39fedad2",
   "metadata": {},
   "outputs": [
    {
     "ename": "SyntaxError",
     "evalue": "invalid syntax (2713376037.py, line 7)",
     "output_type": "error",
     "traceback": [
      "\u001b[1;36m  File \u001b[1;32m\"C:\\Users\\LG\\AppData\\Local\\Temp\\ipykernel_7352\\2713376037.py\"\u001b[1;36m, line \u001b[1;32m7\u001b[0m\n\u001b[1;33m    if r1\u001b[0m\n\u001b[1;37m          ^\u001b[0m\n\u001b[1;31mSyntaxError\u001b[0m\u001b[1;31m:\u001b[0m invalid syntax\n"
     ]
    }
   ],
   "source": [
    "#power law degree sequence\n",
    "def PLds(N) :\n",
    "    v = np.zeros(N)\n",
    "    i = 0\n",
    "    while i < N :\n",
    "        r1=random.randint(0,N)\n",
    "        if r1 \n",
    "        val=r1**(-gamma)\n",
    "        r2=random.randint(0,N)\n",
    "        if r2 < val :\n",
    "            v[i] = r1\n",
    "            i +=1\n",
    "    return v"
   ]
  },
  {
   "cell_type": "code",
   "execution_count": 6,
   "id": "9104b017",
   "metadata": {},
   "outputs": [],
   "source": [
    "def powerlaw_graph(N, gamma, seed):\n",
    "    sequence = np.array(nx.utils.random_sequence.powerlaw_sequence(N, gamma, seed=seed)).astype(int)\n",
    "    new_seed = seed + 1\n",
    "    while not nx.is_graphical(sequence):\n",
    "        sequence = np.array(nx.utils.random_sequence.powerlaw_sequence(N, gamma, seed=new_seed)).astype(int)\n",
    "        new_seed += 1\n",
    "    return nx.configuration_model(sequence, seed=seed)"
   ]
  },
  {
   "cell_type": "code",
   "execution_count": 8,
   "id": "15a2ba0f",
   "metadata": {},
   "outputs": [],
   "source": [
    "G1 = powerlaw_graph(N1, gamma, 0)\n",
    "G2 = powerlaw_graph(N2, gamma, 0)\n",
    "G3 = powerlaw_graph(N3, gamma, 0)\n",
    "G4 = powerlaw_graph(N4, gamma, 0)\n",
    "G5 = powerlaw_graph(N5, gamma, 0)\n",
    "G6 = powerlaw_graph(N6, gamma, 0)\n",
    "G7 = powerlaw_graph(N7, gamma, 0)"
   ]
  },
  {
   "cell_type": "code",
   "execution_count": 23,
   "id": "13f4d749",
   "metadata": {},
   "outputs": [
    {
     "name": "stdout",
     "output_type": "stream",
     "text": [
      "0.012035010940919038\n",
      "0.0076263107721639654\n",
      "0.01845778354053848\n",
      "0.006736823565673022\n",
      "0.0039557132107922175\n",
      "0.0010097977675281788\n",
      "0.0033321363897865965\n"
     ]
    }
   ],
   "source": [
    "#self loop\n",
    "print(nx.number_of_selfloops(G1)/G1.number_of_edges())\n",
    "print(nx.number_of_selfloops(G2)/G2.number_of_edges())\n",
    "print(nx.number_of_selfloops(G3)/G3.number_of_edges())\n",
    "print(nx.number_of_selfloops(G4)/G4.number_of_edges())\n",
    "print(nx.number_of_selfloops(G5)/G5.number_of_edges())\n",
    "print(nx.number_of_selfloops(G6)/G6.number_of_edges())\n",
    "print(nx.number_of_selfloops(G7)/G7.number_of_edges())"
   ]
  },
  {
   "cell_type": "code",
   "execution_count": 62,
   "id": "a9715849",
   "metadata": {},
   "outputs": [],
   "source": [
    "#multi edges\n",
    "def number_of_multiedges(G) :\n",
    "    edges = list(G.edges())\n",
    "    edges_set = list(set(edges))\n",
    "    edge_dist = []\n",
    "    multi_edges = 0\n",
    "    \n",
    "    for i in edges_set :\n",
    "        edge_dist.append(edges.count(i))\n",
    "    for j in range(len(edge_dist)) :\n",
    "        if edge_dist[j] >1 :\n",
    "            multi_edges += edge_dist[j]\n",
    "    \n",
    "    return multi_edges"
   ]
  },
  {
   "cell_type": "code",
   "execution_count": 65,
   "id": "5f6aeb0d",
   "metadata": {},
   "outputs": [
    {
     "name": "stdout",
     "output_type": "stream",
     "text": [
      "0.14442013129102846\n",
      "0.15800762631077217\n",
      "0.2986804972923499\n",
      "0.18193826779974462\n",
      "0.1345802429323874\n",
      "0.06598255142235929\n",
      "0.1476796670180275\n"
     ]
    }
   ],
   "source": [
    "print(number_of_multiedges(G1)/G1.number_of_edges())\n",
    "print(number_of_multiedges(G2)/G2.number_of_edges())\n",
    "print(number_of_multiedges(G3)/G3.number_of_edges())\n",
    "print(number_of_multiedges(G4)/G4.number_of_edges())\n",
    "print(number_of_multiedges(G5)/G5.number_of_edges())\n",
    "print(number_of_multiedges(G6)/G6.number_of_edges())\n",
    "print(number_of_multiedges(G7)/G7.number_of_edges())"
   ]
  },
  {
   "cell_type": "markdown",
   "id": "d0e0ea08",
   "metadata": {},
   "source": [
    "(b)"
   ]
  },
  {
   "cell_type": "code",
   "execution_count": 66,
   "id": "04162fd4",
   "metadata": {},
   "outputs": [],
   "source": [
    "gamma = 3"
   ]
  },
  {
   "cell_type": "code",
   "execution_count": 67,
   "id": "ac86a195",
   "metadata": {},
   "outputs": [],
   "source": [
    "G1 = powerlaw_graph(N1, gamma, 0)\n",
    "G2 = powerlaw_graph(N2, gamma, 0)\n",
    "G3 = powerlaw_graph(N3, gamma, 0)\n",
    "G4 = powerlaw_graph(N4, gamma, 0)\n",
    "G5 = powerlaw_graph(N5, gamma, 0)\n",
    "G6 = powerlaw_graph(N6, gamma, 0)\n",
    "G7 = powerlaw_graph(N7, gamma, 0)"
   ]
  },
  {
   "cell_type": "code",
   "execution_count": 68,
   "id": "a77c4369",
   "metadata": {},
   "outputs": [
    {
     "name": "stdout",
     "output_type": "stream",
     "text": [
      "0.002457002457002457\n",
      "0.0018610421836228288\n",
      "0.0004786979415988511\n",
      "0.0003629764065335753\n",
      "0.00012208521548040532\n",
      "0.00021539345203905802\n",
      "2.4514009756575884e-05\n"
     ]
    }
   ],
   "source": [
    "#self loop\n",
    "print(nx.number_of_selfloops(G1)/G1.number_of_edges())\n",
    "print(nx.number_of_selfloops(G2)/G2.number_of_edges())\n",
    "print(nx.number_of_selfloops(G3)/G3.number_of_edges())\n",
    "print(nx.number_of_selfloops(G4)/G4.number_of_edges())\n",
    "print(nx.number_of_selfloops(G5)/G5.number_of_edges())\n",
    "print(nx.number_of_selfloops(G6)/G6.number_of_edges())\n",
    "print(nx.number_of_selfloops(G7)/G7.number_of_edges())"
   ]
  },
  {
   "cell_type": "code",
   "execution_count": 69,
   "id": "ba0aaff6",
   "metadata": {},
   "outputs": [
    {
     "name": "stdout",
     "output_type": "stream",
     "text": [
      "0.0\n",
      "0.0012406947890818859\n",
      "0.004786979415988511\n",
      "0.0016938898971566847\n",
      "0.000366255646441216\n",
      "0.0019146084625694046\n",
      "9.805603902630354e-05\n"
     ]
    }
   ],
   "source": [
    "print(number_of_multiedges(G1)/G1.number_of_edges())\n",
    "print(number_of_multiedges(G2)/G2.number_of_edges())\n",
    "print(number_of_multiedges(G3)/G3.number_of_edges())\n",
    "print(number_of_multiedges(G4)/G4.number_of_edges())\n",
    "print(number_of_multiedges(G5)/G5.number_of_edges())\n",
    "print(number_of_multiedges(G6)/G6.number_of_edges())\n",
    "print(number_of_multiedges(G7)/G7.number_of_edges())"
   ]
  },
  {
   "cell_type": "code",
   "execution_count": null,
   "id": "d8bb4ca4",
   "metadata": {},
   "outputs": [],
   "source": []
  }
 ],
 "metadata": {
  "kernelspec": {
   "display_name": "Python 3 (ipykernel)",
   "language": "python",
   "name": "python3"
  },
  "language_info": {
   "codemirror_mode": {
    "name": "ipython",
    "version": 3
   },
   "file_extension": ".py",
   "mimetype": "text/x-python",
   "name": "python",
   "nbconvert_exporter": "python",
   "pygments_lexer": "ipython3",
   "version": "3.9.13"
  }
 },
 "nbformat": 4,
 "nbformat_minor": 5
}
