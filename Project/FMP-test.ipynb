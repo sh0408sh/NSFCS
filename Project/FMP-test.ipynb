{
 "cells": [
  {
   "cell_type": "code",
   "execution_count": 1,
   "metadata": {},
   "outputs": [],
   "source": [
    "API_KEY = \"980a590f6e6e045b0aead2bb1eec07e5\""
   ]
  },
  {
   "cell_type": "code",
   "execution_count": 16,
   "metadata": {},
   "outputs": [
    {
     "name": "stderr",
     "output_type": "stream",
     "text": [
      "/var/folders/vm/gl7wrnv94t11c0w_b6_qby0w0000gn/T/ipykernel_28388/3320227258.py:10: DeprecationWarning: cafile, capath and cadefault are deprecated, use a custom context instead.\n",
      "  response = urlopen(url, cafile=certifi.where())\n"
     ]
    }
   ],
   "source": [
    "#!/usr/bin/env python\n",
    "\n",
    "from urllib.request import urlopen\n",
    "\n",
    "import certifi\n",
    "import json\n",
    "\n",
    "def get_jsonparsed_data(url):\n",
    "    response = urlopen(url, cafile=certifi.where())\n",
    "    data = response.read().decode(\"utf-8\")\n",
    "    return json.loads(data)\n",
    "\n",
    "url = (f\"https://financialmodelingprep.com/api/v4/institutional-ownership/institutional-holders/symbol-ownership-percent?date=2021-09-30&symbol=AAPL&page=0&apikey={API_KEY}\")\n",
    "data = get_jsonparsed_data(url)"
   ]
  },
  {
   "cell_type": "code",
   "execution_count": 31,
   "metadata": {},
   "outputs": [],
   "source": [
    "class Company:\n",
    "    def __init__(self, cik, name):\n",
    "        self.__cik = cik\n",
    "        self.__name = name\n",
    "        self.__investors = []\n",
    "    \n",
    "    \n",
    "    def add_investors(self, investor, percent):\n",
    "        if isinstance(investor, Company) & isinstance(percent, float):\n",
    "            self.__investors.append((investor, percent))\n",
    "        else:\n",
    "            raise Exception('invalid type of investor and percent') \n",
    "    \n",
    "    \n",
    "    def get_investors(self):\n",
    "        return self.__investors\n",
    "\n",
    "    \n",
    "    def get_name(self):\n",
    "        return self.__name\n",
    "    \n",
    "    \n",
    "    def get_cik(self):\n",
    "        return self.__cik\n",
    "    \n",
    "    "
   ]
  },
  {
   "cell_type": "code",
   "execution_count": 32,
   "metadata": {},
   "outputs": [],
   "source": [
    "def is_company_in_by_cik(list, cik):\n",
    "    for c in list:\n",
    "        if c.get_cik() == cik:\n",
    "            return c\n",
    "    return False"
   ]
  },
  {
   "cell_type": "code",
   "execution_count": 33,
   "metadata": {},
   "outputs": [],
   "source": [
    "r = {}\n",
    "\n",
    "companies = []\n",
    "apple = Company(int(\"0000320193\"), \"Apple Inc.\")\n",
    "companies.append(apple)\n",
    "\n",
    "for i in data:\n",
    "    cik = int(i[\"cik\"])\n",
    "    c = is_company_in_by_cik(companies, cik)\n",
    "\n",
    "    if c is False:\n",
    "        cname = i[\"investorName\"]\n",
    "        c = Company(cik, cname)\n",
    "    \n",
    "    p = float(i[\"ownership\"])\n",
    "    \n",
    "    apple.add_investors(c, p)"
   ]
  },
  {
   "cell_type": "code",
   "execution_count": 34,
   "metadata": {},
   "outputs": [
    {
     "data": {
      "text/plain": [
       "[(<__main__.Company at 0x10fadfd50>, 7.5087),\n",
       " (<__main__.Company at 0x10fc34d90>, 6.085),\n",
       " (<__main__.Company at 0x10fc34ad0>, 5.2602),\n",
       " (<__main__.Company at 0x10f8ac410>, 3.6891),\n",
       " (<__main__.Company at 0x10f8aebd0>, 2.079),\n",
       " (<__main__.Company at 0x10f8afd50>, 1.541),\n",
       " (<__main__.Company at 0x10f8acd90>, 1.1582),\n",
       " (<__main__.Company at 0x10f8ae310>, 1.1176),\n",
       " (<__main__.Company at 0x10f8ae490>, 0.8858),\n",
       " (<__main__.Company at 0x10f8af3d0>, 0.8666),\n",
       " (<__main__.Company at 0x10f8ac150>, 0.8042),\n",
       " (<__main__.Company at 0x10f8ae5d0>, 0.7606),\n",
       " (<__main__.Company at 0x10f8afb50>, 0.7358),\n",
       " (<__main__.Company at 0x10f8ac590>, 0.6381),\n",
       " (<__main__.Company at 0x10f8aecd0>, 0.5251),\n",
       " (<__main__.Company at 0x10f8ac310>, 0.4694),\n",
       " (<__main__.Company at 0x10f8af6d0>, 0.4643),\n",
       " (<__main__.Company at 0x10f8afb10>, 0.4139),\n",
       " (<__main__.Company at 0x10f8af510>, 0.4105),\n",
       " (<__main__.Company at 0x10f8af0d0>, 0.3913),\n",
       " (<__main__.Company at 0x10f8ad990>, 0.3795),\n",
       " (<__main__.Company at 0x10f8aef10>, 0.3773),\n",
       " (<__main__.Company at 0x10f8ae950>, 0.361),\n",
       " (<__main__.Company at 0x10f8ac9d0>, 0.3286),\n",
       " (<__main__.Company at 0x10f8aead0>, 0.3246),\n",
       " (<__main__.Company at 0x10f8ae610>, 0.3187),\n",
       " (<__main__.Company at 0x10f8ae2d0>, 0.3095),\n",
       " (<__main__.Company at 0x10f8acd50>, 0.3014),\n",
       " (<__main__.Company at 0x10f8ad050>, 0.2924),\n",
       " (<__main__.Company at 0x10f8ae4d0>, 0.2895),\n",
       " (<__main__.Company at 0x10f8af550>, 0.2887),\n",
       " (<__main__.Company at 0x10f8ae850>, 0.2872),\n",
       " (<__main__.Company at 0x10f8ad850>, 0.2583),\n",
       " (<__main__.Company at 0x10f8adc50>, 0.2502),\n",
       " (<__main__.Company at 0x10f8afa50>, 0.2486),\n",
       " (<__main__.Company at 0x10f8ae690>, 0.2268),\n",
       " (<__main__.Company at 0x10f8aded0>, 0.2198),\n",
       " (<__main__.Company at 0x10f8af690>, 0.2197),\n",
       " (<__main__.Company at 0x10f8ac910>, 0.2129),\n",
       " (<__main__.Company at 0x10f8ae390>, 0.2113),\n",
       " (<__main__.Company at 0x10f8afad0>, 0.2094),\n",
       " (<__main__.Company at 0x10f8afb90>, 0.2078),\n",
       " (<__main__.Company at 0x10f8ad5d0>, 0.1946),\n",
       " (<__main__.Company at 0x10f8ac950>, 0.1839),\n",
       " (<__main__.Company at 0x10f8ad0d0>, 0.1785),\n",
       " (<__main__.Company at 0x10f8af2d0>, 0.1785),\n",
       " (<__main__.Company at 0x10f8af190>, 0.1772),\n",
       " (<__main__.Company at 0x10f8ad890>, 0.1745),\n",
       " (<__main__.Company at 0x10f8ae990>, 0.1729),\n",
       " (<__main__.Company at 0x10f810a10>, 0.1635)]"
      ]
     },
     "execution_count": 34,
     "metadata": {},
     "output_type": "execute_result"
    }
   ],
   "source": [
    "apple.get_investors()"
   ]
  },
  {
   "cell_type": "code",
   "execution_count": null,
   "metadata": {},
   "outputs": [],
   "source": [
    "import networkx as nx\n",
    "import matplotlib.pyplot as plt\n",
    "\n",
    "G = nx.DiGraph()\n",
    "\n",
    "for company in companies:\n",
    "    for c, p in company.get_investors():\n",
    "        G.add_edge(company.get_cik(), c.get_cik(), weight=p)\n",
    "\n",
    "pos = nx.spring_layout(G, seed=42)\n",
    "\n",
    "size = [degree * 15 for node, degree in G.degree]\n",
    "color = [degree* 5 for node, degree in G.degree]\n",
    "\n",
    "fig, ax = plt.subplots(2, 2)\n",
    "\n",
    "nx.draw_networkx(G, pos=pos, ax=ax, with_labels=False, node_size=size, node_color=color, cmap=plt.cm.Greens, edge_color='grey')\n",
    "    "
   ]
  }
 ],
 "metadata": {
  "kernelspec": {
   "display_name": "Python 3 (ipykernel)",
   "language": "python",
   "name": "python3"
  },
  "language_info": {
   "codemirror_mode": {
    "name": "ipython",
    "version": 3
   },
   "file_extension": ".py",
   "mimetype": "text/x-python",
   "name": "python",
   "nbconvert_exporter": "python",
   "pygments_lexer": "ipython3",
   "version": "3.9.13"
  }
 },
 "nbformat": 4,
 "nbformat_minor": 2
}
